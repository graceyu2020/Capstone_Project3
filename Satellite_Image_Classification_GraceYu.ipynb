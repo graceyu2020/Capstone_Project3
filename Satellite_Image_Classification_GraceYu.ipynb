{
 "cells": [
  {
   "cell_type": "markdown",
   "metadata": {},
   "source": [
    "# Introduction. I want to classify any user image by training on availabe satellite image. The training and test data set DeepSat(SAT-4) Airborne Dataset is from https://www.kaggle.com/arpandhatt/satellite-image-classification."
   ]
  },
  {
   "cell_type": "markdown",
   "metadata": {},
   "source": [
    "SAT-4\n",
    "\n",
    "SAT-4 consists of a total of 500,000 image patches covering four broad land cover classes. These include - barren land, trees, grassland and a class that consists of all land cover classes other than the above three. 400,000 patches (comprising of four-fifths of the total dataset) were chosen for training and the remaining 100,000 (one-fifths) were chosen as the testing dataset. We ensured that the training and test datasets belong to disjoint set of image tiles. Each image patch is size normalized to 28x28 pixels. Once generated, both the training and testing datasets were randomized using a pseudo-random number generator.\n",
    "\n",
    "The MAT file for the SAT-4 dataset contains the following variables:\n",
    "\n",
    "train_x\t28x28x4x400000 uint8 (containing 400000 training samples of 28x28 images each with 4 channels)\n",
    "train_y\t400000x4 uint8 (containing 4x1 vectors having labels for the 400000 training samples)\n",
    "test_x\t28x28x4x100000 uint8 (containing 100000 test samples of 28x28 images each with 4 channels)\n",
    "test_y\t100000x4 uint8 (containing 4x1 vectors having labels for the 100000 test samples)\n",
    "\n",
    "SAT-6\n",
    "\n",
    "SAT-6 consists of a total of 405,000 image patches each of size 28x28 and covering 6 landcover classes - barren land, trees, grassland, roads, buildings and water bodies. 324,000 images (comprising of four-fifths of the total dataset) were chosen as the training dataset and 81,000 (one fifths) were chosen as the testing dataset. Similar to SAT-4, the training and test sets were selected from disjoint NAIP tiles. Once generated, the images in the dataset were randomized in the same way as that for SAT-4. The specifications for the various landcover classes of SAT-4 and SAT-6 were adopted from those used in the National Land Cover Data (NLCD) algorithm.\n",
    "\n",
    "The MAT file for the SAT-6 dataset contains the following variables:\n",
    "\n",
    "train_x\t28x28x4x324000 uint8 (containing 324000 training samples of 28x28 images each with 4 channels)\n",
    "train_y\t324000x6 uint8 (containing 6x1 vectors having labels for the 324000 training samples)\n",
    "test_x\t28x28x4x81000 uint8 (containing 81000 test samples of 28x28 images each with 4 channels)\n",
    "test_y\t81000x6 uint8 (containing 6x1 vectors having labels for the 81000 test samples)\n",
    "\n"
   ]
  },
  {
   "cell_type": "markdown",
   "metadata": {},
   "source": [
    "## Section 1 input data"
   ]
  },
  {
   "cell_type": "code",
   "execution_count": 1,
   "metadata": {},
   "outputs": [],
   "source": [
    "#import modules\n",
    "import os\n",
    "import copy\n",
    "import json\n",
    "import random\n",
    "import pandas as pd\n",
    "import numpy as np\n",
    "import matplotlib.pyplot as plt\n",
    "import matplotlib.image as mpimg\n",
    "import tensorflow as tf\n",
    "\n",
    "from math import ceil\n",
    "from keras import backend as K\n",
    "from keras.optimizers import Adam, SGD\n",
    "from keras.preprocessing import image\n",
    "from keras.preprocessing.image import ImageDataGenerator, array_to_img, img_to_array, load_img\n",
    "from keras.models import Model, load_model, Sequential\n",
    "from keras.layers import Input, Dense, Conv2D, MaxPooling2D, UpSampling2D, Flatten, Reshape, BatchNormalization, LeakyReLU, Dropout\n",
    "from keras.callbacks import EarlyStopping, ModelCheckpoint, ReduceLROnPlateau\n",
    "from skimage.io import imread, imshow, concatenate_images\n",
    "from sklearn.neighbors import NearestNeighbors\n",
    "from keras.applications.vgg19 import preprocess_input\n",
    "\n",
    "# My add on\n",
    "from PIL import Image\n",
    "from sklearn import metrics"
   ]
  },
  {
   "cell_type": "code",
   "execution_count": 2,
   "metadata": {},
   "outputs": [],
   "source": [
    "# read the satellite image csv file. The original file has 400,000 train samples and 100,000 test samples. \n",
    "x_train = pd.read_csv(\"X_train_sat4.csv\", header=None)\n",
    "x_test = pd.read_csv(\"X_test_sat4.csv\", header=None)\n",
    "y_train = pd.read_csv(\"y_train_sat4.csv\", header=None)\n",
    "y_test = pd.read_csv(\"y_test_sat4.csv\", header=None)"
   ]
  },
  {
   "cell_type": "code",
   "execution_count": 3,
   "metadata": {},
   "outputs": [
    {
     "data": {
      "text/html": [
       "<div>\n",
       "<style scoped>\n",
       "    .dataframe tbody tr th:only-of-type {\n",
       "        vertical-align: middle;\n",
       "    }\n",
       "\n",
       "    .dataframe tbody tr th {\n",
       "        vertical-align: top;\n",
       "    }\n",
       "\n",
       "    .dataframe thead th {\n",
       "        text-align: right;\n",
       "    }\n",
       "</style>\n",
       "<table border=\"1\" class=\"dataframe\">\n",
       "  <thead>\n",
       "    <tr style=\"text-align: right;\">\n",
       "      <th></th>\n",
       "      <th>0</th>\n",
       "      <th>1</th>\n",
       "      <th>2</th>\n",
       "      <th>3</th>\n",
       "      <th>4</th>\n",
       "      <th>5</th>\n",
       "      <th>6</th>\n",
       "      <th>7</th>\n",
       "      <th>8</th>\n",
       "      <th>9</th>\n",
       "      <th>...</th>\n",
       "      <th>3126</th>\n",
       "      <th>3127</th>\n",
       "      <th>3128</th>\n",
       "      <th>3129</th>\n",
       "      <th>3130</th>\n",
       "      <th>3131</th>\n",
       "      <th>3132</th>\n",
       "      <th>3133</th>\n",
       "      <th>3134</th>\n",
       "      <th>3135</th>\n",
       "    </tr>\n",
       "  </thead>\n",
       "  <tbody>\n",
       "    <tr>\n",
       "      <th>0</th>\n",
       "      <td>104</td>\n",
       "      <td>103</td>\n",
       "      <td>94</td>\n",
       "      <td>133</td>\n",
       "      <td>114</td>\n",
       "      <td>115</td>\n",
       "      <td>106</td>\n",
       "      <td>145</td>\n",
       "      <td>104</td>\n",
       "      <td>110</td>\n",
       "      <td>...</td>\n",
       "      <td>95</td>\n",
       "      <td>141</td>\n",
       "      <td>101</td>\n",
       "      <td>103</td>\n",
       "      <td>92</td>\n",
       "      <td>138</td>\n",
       "      <td>103</td>\n",
       "      <td>110</td>\n",
       "      <td>99</td>\n",
       "      <td>148</td>\n",
       "    </tr>\n",
       "    <tr>\n",
       "      <th>1</th>\n",
       "      <td>175</td>\n",
       "      <td>149</td>\n",
       "      <td>130</td>\n",
       "      <td>146</td>\n",
       "      <td>169</td>\n",
       "      <td>148</td>\n",
       "      <td>130</td>\n",
       "      <td>141</td>\n",
       "      <td>166</td>\n",
       "      <td>139</td>\n",
       "      <td>...</td>\n",
       "      <td>119</td>\n",
       "      <td>132</td>\n",
       "      <td>137</td>\n",
       "      <td>133</td>\n",
       "      <td>121</td>\n",
       "      <td>134</td>\n",
       "      <td>134</td>\n",
       "      <td>128</td>\n",
       "      <td>119</td>\n",
       "      <td>132</td>\n",
       "    </tr>\n",
       "    <tr>\n",
       "      <th>2</th>\n",
       "      <td>113</td>\n",
       "      <td>114</td>\n",
       "      <td>105</td>\n",
       "      <td>163</td>\n",
       "      <td>126</td>\n",
       "      <td>131</td>\n",
       "      <td>125</td>\n",
       "      <td>176</td>\n",
       "      <td>119</td>\n",
       "      <td>125</td>\n",
       "      <td>...</td>\n",
       "      <td>129</td>\n",
       "      <td>177</td>\n",
       "      <td>122</td>\n",
       "      <td>126</td>\n",
       "      <td>113</td>\n",
       "      <td>172</td>\n",
       "      <td>130</td>\n",
       "      <td>136</td>\n",
       "      <td>131</td>\n",
       "      <td>181</td>\n",
       "    </tr>\n",
       "    <tr>\n",
       "      <th>3</th>\n",
       "      <td>107</td>\n",
       "      <td>104</td>\n",
       "      <td>100</td>\n",
       "      <td>124</td>\n",
       "      <td>108</td>\n",
       "      <td>105</td>\n",
       "      <td>102</td>\n",
       "      <td>126</td>\n",
       "      <td>105</td>\n",
       "      <td>104</td>\n",
       "      <td>...</td>\n",
       "      <td>74</td>\n",
       "      <td>85</td>\n",
       "      <td>74</td>\n",
       "      <td>70</td>\n",
       "      <td>63</td>\n",
       "      <td>78</td>\n",
       "      <td>83</td>\n",
       "      <td>79</td>\n",
       "      <td>73</td>\n",
       "      <td>92</td>\n",
       "    </tr>\n",
       "    <tr>\n",
       "      <th>4</th>\n",
       "      <td>105</td>\n",
       "      <td>100</td>\n",
       "      <td>95</td>\n",
       "      <td>132</td>\n",
       "      <td>77</td>\n",
       "      <td>72</td>\n",
       "      <td>62</td>\n",
       "      <td>114</td>\n",
       "      <td>76</td>\n",
       "      <td>77</td>\n",
       "      <td>...</td>\n",
       "      <td>86</td>\n",
       "      <td>129</td>\n",
       "      <td>106</td>\n",
       "      <td>100</td>\n",
       "      <td>85</td>\n",
       "      <td>128</td>\n",
       "      <td>118</td>\n",
       "      <td>109</td>\n",
       "      <td>99</td>\n",
       "      <td>130</td>\n",
       "    </tr>\n",
       "  </tbody>\n",
       "</table>\n",
       "<p>5 rows × 3136 columns</p>\n",
       "</div>"
      ],
      "text/plain": [
       "   0     1     2     3     4     5     6     7     8     9     ...  3126  \\\n",
       "0   104   103    94   133   114   115   106   145   104   110  ...    95   \n",
       "1   175   149   130   146   169   148   130   141   166   139  ...   119   \n",
       "2   113   114   105   163   126   131   125   176   119   125  ...   129   \n",
       "3   107   104   100   124   108   105   102   126   105   104  ...    74   \n",
       "4   105   100    95   132    77    72    62   114    76    77  ...    86   \n",
       "\n",
       "   3127  3128  3129  3130  3131  3132  3133  3134  3135  \n",
       "0   141   101   103    92   138   103   110    99   148  \n",
       "1   132   137   133   121   134   134   128   119   132  \n",
       "2   177   122   126   113   172   130   136   131   181  \n",
       "3    85    74    70    63    78    83    79    73    92  \n",
       "4   129   106   100    85   128   118   109    99   130  \n",
       "\n",
       "[5 rows x 3136 columns]"
      ]
     },
     "execution_count": 3,
     "metadata": {},
     "output_type": "execute_result"
    }
   ],
   "source": [
    "x_train.head()"
   ]
  },
  {
   "cell_type": "code",
   "execution_count": 4,
   "metadata": {},
   "outputs": [
    {
     "data": {
      "text/plain": [
       "(400000, 3136)"
      ]
     },
     "execution_count": 4,
     "metadata": {},
     "output_type": "execute_result"
    }
   ],
   "source": [
    "x_train.shape"
   ]
  },
  {
   "cell_type": "code",
   "execution_count": 5,
   "metadata": {},
   "outputs": [
    {
     "data": {
      "text/plain": [
       "(400000, 4)"
      ]
     },
     "execution_count": 5,
     "metadata": {},
     "output_type": "execute_result"
    }
   ],
   "source": [
    "y_train.shape"
   ]
  },
  {
   "cell_type": "code",
   "execution_count": 6,
   "metadata": {},
   "outputs": [
    {
     "data": {
      "text/plain": [
       "(100000, 3136)"
      ]
     },
     "execution_count": 6,
     "metadata": {},
     "output_type": "execute_result"
    }
   ],
   "source": [
    "x_test.shape"
   ]
  },
  {
   "cell_type": "code",
   "execution_count": 7,
   "metadata": {},
   "outputs": [
    {
     "data": {
      "text/plain": [
       "(100000, 4)"
      ]
     },
     "execution_count": 7,
     "metadata": {},
     "output_type": "execute_result"
    }
   ],
   "source": [
    "y_test.shape"
   ]
  },
  {
   "cell_type": "markdown",
   "metadata": {},
   "source": [
    "## Section 2 EDA"
   ]
  },
  {
   "cell_type": "code",
   "execution_count": 8,
   "metadata": {},
   "outputs": [],
   "source": [
    "#Convert the training and testing data into numpy array with shape of [image no, 28,28,4]\n",
    "x_train_img = x_train.to_numpy().reshape([400000,28,28,4])\n",
    "x_test_img = x_test.to_numpy().reshape([100000,28,28,4])"
   ]
  },
  {
   "cell_type": "code",
   "execution_count": 89,
   "metadata": {},
   "outputs": [],
   "source": [
    "#convert x from pandas dataframe to numpy array\n",
    "x_train_np = x_train.to_numpy()\n",
    "x_test_np = x_test.to_numpy()"
   ]
  },
  {
   "cell_type": "code",
   "execution_count": 9,
   "metadata": {},
   "outputs": [],
   "source": [
    "#convert label y from pandas dataframe to numpy array\n",
    "y_train_np = y_train.to_numpy()\n",
    "y_test_np = y_test.to_numpy()"
   ]
  },
  {
   "cell_type": "code",
   "execution_count": 10,
   "metadata": {},
   "outputs": [
    {
     "data": {
      "image/png": "[encoded data removed]",
      "text/plain": [
       "<Figure size 432x288 with 1 Axes>"
      ]
     },
     "metadata": {
      "needs_background": "light"
     },
     "output_type": "display_data"
    },
    {
     "name": "stdout",
     "output_type": "stream",
     "text": [
      "Barren Land\n"
     ]
    }
   ],
   "source": [
    "# Examine the image. The color channel are R,G,B, and I(Infrared)\n",
    "# Type a image number between 0 and 400,000 to check the image.\n",
    "ix = 10000\n",
    "plt.imshow(x_train_img[ix,:,:,0:4])\n",
    "plt.show()\n",
    "#Tells what the image is\n",
    "if y_train_np[ix,0] == 1:\n",
    "    print ('Barren Land')\n",
    "elif y_train_np[ix,1] == 1:\n",
    "    print ('Trees')\n",
    "elif y_train_np[ix,2] == 1:\n",
    "    print ('Grassland')\n",
    "else:\n",
    "    print ('Other')"
   ]
  },
  {
   "cell_type": "code",
   "execution_count": 11,
   "metadata": {},
   "outputs": [
    {
     "data": {
      "image/png": "[encoded data removed]",
      "text/plain": [
       "<Figure size 432x288 with 1 Axes>"
      ]
     },
     "metadata": {
      "needs_background": "light"
     },
     "output_type": "display_data"
    },
    {
     "name": "stdout",
     "output_type": "stream",
     "text": [
      "Trees\n"
     ]
    }
   ],
   "source": [
    "ix = 5000\n",
    "plt.imshow(x_train_img[ix,:,:,0:4])\n",
    "plt.show()\n",
    "#Tells what the image is\n",
    "if y_train_np[ix,0] == 1:\n",
    "    print ('Barren Land')\n",
    "elif y_train_np[ix,1] == 1:\n",
    "    print ('Trees')\n",
    "elif y_train_np[ix,2] == 1:\n",
    "    print ('Grassland')\n",
    "else:\n",
    "    print ('Other')"
   ]
  },
  {
   "cell_type": "code",
   "execution_count": 12,
   "metadata": {},
   "outputs": [
    {
     "data": {
      "image/png": "[encoded data removed]",
      "text/plain": [
       "<Figure size 432x288 with 1 Axes>"
      ]
     },
     "metadata": {
      "needs_background": "light"
     },
     "output_type": "display_data"
    },
    {
     "name": "stdout",
     "output_type": "stream",
     "text": [
      "Grassland\n"
     ]
    }
   ],
   "source": [
    "ix = 39999\n",
    "plt.imshow(x_train_img[ix,:,:,0:4])\n",
    "plt.show()\n",
    "#Tells what the image is\n",
    "if y_train_np[ix,0] == 1:\n",
    "    print ('Barren Land')\n",
    "elif y_train_np[ix,1] == 1:\n",
    "    print ('Trees')\n",
    "elif y_train_np[ix,2] == 1:\n",
    "    print ('Grassland')\n",
    "else:\n",
    "    print ('Other')"
   ]
  },
  {
   "cell_type": "code",
   "execution_count": 13,
   "metadata": {},
   "outputs": [
    {
     "data": {
      "image/png": "[encoded data removed]",
      "text/plain": [
       "<Figure size 432x288 with 1 Axes>"
      ]
     },
     "metadata": {
      "needs_background": "light"
     },
     "output_type": "display_data"
    },
    {
     "name": "stdout",
     "output_type": "stream",
     "text": [
      "Other\n"
     ]
    }
   ],
   "source": [
    "ix = 20000\n",
    "plt.imshow(x_train_img[ix,:,:,0:4])\n",
    "plt.show()\n",
    "#Tells what the image is\n",
    "if y_train_np[ix,0] == 1:\n",
    "    print ('Barren Land')\n",
    "elif y_train_np[ix,1] == 1:\n",
    "    print ('Trees')\n",
    "elif y_train_np[ix,2] == 1:\n",
    "    print ('Grassland')\n",
    "else:\n",
    "    print ('Other')"
   ]
  },
  {
   "cell_type": "code",
   "execution_count": 14,
   "metadata": {},
   "outputs": [
    {
     "name": "stdout",
     "output_type": "stream",
     "text": [
      "There are 104465 barren land, there are 81118 trees, there are 72017 grassland, there are 142400 others\n"
     ]
    }
   ],
   "source": [
    "# Check how many images in each class\n",
    "sum = [0,0,0,0]\n",
    "for i in range(len(y_train_np)):\n",
    "    for j in range(4):\n",
    "        sum[j] = sum[j]+y_train_np[i][j]\n",
    "\n",
    "print(\"There are {} barren land, there are {} trees, there are {} grassland, there are {} others\".format(sum[0], sum[1], sum[2], sum[3]))"
   ]
  },
  {
   "cell_type": "code",
   "execution_count": 21,
   "metadata": {},
   "outputs": [
    {
     "data": {
      "image/png": "[encoded data removed]",
      "text/plain": [
       "<Figure size 432x288 with 1 Axes>"
      ]
     },
     "metadata": {
      "needs_background": "light"
     },
     "output_type": "display_data"
    }
   ],
   "source": [
    "total = 0\n",
    "for i in range(3):\n",
    "    total = total + sum[i]\n",
    "percent = sum / total\n",
    "objects = ('barren land', 'trees', 'grassland', 'others')\n",
    "y_pos = np.arange(len(objects))\n",
    "\n",
    "plt.bar(y_pos, percent, align='center', alpha=1)\n",
    "plt.xticks(y_pos, objects)\n",
    "plt.ylabel('Clalss')\n",
    "plt.title('Each Class Percentage')\n",
    "plt.show()"
   ]
  },
  {
   "cell_type": "markdown",
   "metadata": {},
   "source": [
    "## Section 3 Model Test"
   ]
  },
  {
   "cell_type": "markdown",
   "metadata": {},
   "source": [
    "### Section 3.1 Deep neural network"
   ]
  },
  {
   "cell_type": "code",
   "execution_count": 28,
   "metadata": {},
   "outputs": [],
   "source": [
    "# Now we normalize data. This means we make the mean 0, and the standard deviation 1 for the best results. However, dividing the image by 255 is good enough. We will just divide the array by 255:\n",
    "x_train_norm = x_train / 255\n",
    "x_test_norm = x_test / 255"
   ]
  },
  {
   "cell_type": "code",
   "execution_count": 29,
   "metadata": {},
   "outputs": [],
   "source": [
    "# Deep neural network model\n",
    "model = Sequential()\n",
    "model.add(Dense(10, activation='relu', input_shape=(3136,)))\n",
    "model.add(Dense(10, activation='relu'))\n",
    "model.add(Dense(4, activation='softmax'))"
   ]
  },
  {
   "cell_type": "code",
   "execution_count": 31,
   "metadata": {},
   "outputs": [],
   "source": [
    "# Compile model\n",
    "model.compile(optimizer='adam', loss='categorical_crossentropy', metrics=['accuracy'])"
   ]
  },
  {
   "cell_type": "code",
   "execution_count": 35,
   "metadata": {},
   "outputs": [
    {
     "name": "stdout",
     "output_type": "stream",
     "text": [
      "Epoch 1/100\n",
      "10000/10000 [==============================] - 18s 2ms/step - loss: 1.3501 - accuracy: 0.3573 - val_loss: 1.3533 - val_accuracy: 0.3508\n",
      "Epoch 2/100\n",
      "10000/10000 [==============================] - 14s 1ms/step - loss: 1.3501 - accuracy: 0.3573 - val_loss: 1.3528 - val_accuracy: 0.3508\n",
      "Epoch 3/100\n",
      "10000/10000 [==============================] - 15s 2ms/step - loss: 1.3502 - accuracy: 0.3573 - val_loss: 1.3531 - val_accuracy: 0.3508\n",
      "Epoch 4/100\n",
      "10000/10000 [==============================] - 14s 1ms/step - loss: 1.3501 - accuracy: 0.3573 - val_loss: 1.3530 - val_accuracy: 0.3508\n",
      "Epoch 5/100\n",
      "10000/10000 [==============================] - 13s 1ms/step - loss: 1.3501 - accuracy: 0.3573 - val_loss: 1.3528 - val_accuracy: 0.3508\n",
      "Epoch 6/100\n",
      "10000/10000 [==============================] - 14s 1ms/step - loss: 1.3501 - accuracy: 0.3573 - val_loss: 1.3529 - val_accuracy: 0.3508\n",
      "Epoch 7/100\n",
      "10000/10000 [==============================] - 14s 1ms/step - loss: 1.3501 - accuracy: 0.3573 - val_loss: 1.3528 - val_accuracy: 0.3508\n",
      "Epoch 8/100\n",
      "10000/10000 [==============================] - 13s 1ms/step - loss: 1.3501 - accuracy: 0.3573 - val_loss: 1.3530 - val_accuracy: 0.3508\n",
      "Epoch 9/100\n",
      "10000/10000 [==============================] - 14s 1ms/step - loss: 1.3501 - accuracy: 0.3573 - val_loss: 1.3529 - val_accuracy: 0.3508\n",
      "Epoch 10/100\n",
      "10000/10000 [==============================] - 14s 1ms/step - loss: 1.3501 - accuracy: 0.3573 - val_loss: 1.3528 - val_accuracy: 0.3508\n",
      "Epoch 11/100\n",
      "10000/10000 [==============================] - 14s 1ms/step - loss: 1.3501 - accuracy: 0.3573 - val_loss: 1.3529 - val_accuracy: 0.3508\n",
      "Epoch 12/100\n",
      "10000/10000 [==============================] - 15s 1ms/step - loss: 1.3501 - accuracy: 0.3573 - val_loss: 1.3528 - val_accuracy: 0.3508\n",
      "Epoch 13/100\n",
      "10000/10000 [==============================] - 14s 1ms/step - loss: 1.3501 - accuracy: 0.3573 - val_loss: 1.3529 - val_accuracy: 0.3508\n",
      "Epoch 14/100\n",
      "10000/10000 [==============================] - 14s 1ms/step - loss: 1.3501 - accuracy: 0.3573 - val_loss: 1.3529 - val_accuracy: 0.3508\n",
      "Epoch 15/100\n",
      "10000/10000 [==============================] - 14s 1ms/step - loss: 1.3501 - accuracy: 0.3573 - val_loss: 1.3529 - val_accuracy: 0.3508\n",
      "Epoch 16/100\n",
      "10000/10000 [==============================] - 13s 1ms/step - loss: 1.3501 - accuracy: 0.3573 - val_loss: 1.3530 - val_accuracy: 0.3508\n",
      "Epoch 17/100\n",
      "10000/10000 [==============================] - 14s 1ms/step - loss: 1.3501 - accuracy: 0.3573 - val_loss: 1.3528 - val_accuracy: 0.3508\n",
      "Epoch 18/100\n",
      "10000/10000 [==============================] - 13s 1ms/step - loss: 1.3501 - accuracy: 0.3573 - val_loss: 1.3531 - val_accuracy: 0.3508\n",
      "Epoch 19/100\n",
      "10000/10000 [==============================] - 15s 2ms/step - loss: 1.3501 - accuracy: 0.3573 - val_loss: 1.3528 - val_accuracy: 0.3508\n",
      "Epoch 20/100\n",
      "10000/10000 [==============================] - 16s 2ms/step - loss: 1.3501 - accuracy: 0.3573 - val_loss: 1.3531 - val_accuracy: 0.3508\n",
      "Epoch 21/100\n",
      "10000/10000 [==============================] - 14s 1ms/step - loss: 1.3501 - accuracy: 0.3573 - val_loss: 1.3528 - val_accuracy: 0.3508\n",
      "Epoch 22/100\n",
      "10000/10000 [==============================] - 14s 1ms/step - loss: 1.3501 - accuracy: 0.3573 - val_loss: 1.3528 - val_accuracy: 0.3508\n",
      "Epoch 23/100\n",
      "10000/10000 [==============================] - 14s 1ms/step - loss: 1.3501 - accuracy: 0.3573 - val_loss: 1.3531 - val_accuracy: 0.3508\n",
      "Epoch 24/100\n",
      "10000/10000 [==============================] - 14s 1ms/step - loss: 1.3501 - accuracy: 0.3573 - val_loss: 1.3529 - val_accuracy: 0.3508\n",
      "Epoch 25/100\n",
      "10000/10000 [==============================] - 15s 2ms/step - loss: 1.3501 - accuracy: 0.3573 - val_loss: 1.3530 - val_accuracy: 0.3508\n",
      "Epoch 26/100\n",
      "10000/10000 [==============================] - 14s 1ms/step - loss: 1.3501 - accuracy: 0.3573 - val_loss: 1.3530 - val_accuracy: 0.3508\n",
      "Epoch 27/100\n",
      "10000/10000 [==============================] - 14s 1ms/step - loss: 1.3501 - accuracy: 0.3573 - val_loss: 1.3529 - val_accuracy: 0.3508\n",
      "Epoch 28/100\n",
      "10000/10000 [==============================] - 15s 2ms/step - loss: 1.3501 - accuracy: 0.3573 - val_loss: 1.3529 - val_accuracy: 0.3508\n",
      "Epoch 29/100\n",
      "10000/10000 [==============================] - 16s 2ms/step - loss: 1.3501 - accuracy: 0.3573 - val_loss: 1.3533 - val_accuracy: 0.3508\n",
      "Epoch 30/100\n",
      "10000/10000 [==============================] - 16s 2ms/step - loss: 1.3501 - accuracy: 0.3573 - val_loss: 1.3528 - val_accuracy: 0.3508\n",
      "Epoch 31/100\n",
      "10000/10000 [==============================] - 15s 2ms/step - loss: 1.3501 - accuracy: 0.3573 - val_loss: 1.3529 - val_accuracy: 0.3508\n",
      "Epoch 32/100\n",
      "10000/10000 [==============================] - 16s 2ms/step - loss: 1.3501 - accuracy: 0.3573 - val_loss: 1.3529 - val_accuracy: 0.3508\n",
      "Epoch 33/100\n",
      "10000/10000 [==============================] - 15s 2ms/step - loss: 1.3501 - accuracy: 0.3573 - val_loss: 1.3528 - val_accuracy: 0.3508\n",
      "Epoch 34/100\n",
      "10000/10000 [==============================] - 15s 1ms/step - loss: 1.3501 - accuracy: 0.3573 - val_loss: 1.3529 - val_accuracy: 0.3508\n",
      "Epoch 35/100\n",
      "10000/10000 [==============================] - 15s 1ms/step - loss: 1.3501 - accuracy: 0.3573 - val_loss: 1.3529 - val_accuracy: 0.3508\n",
      "Epoch 36/100\n",
      "10000/10000 [==============================] - 15s 1ms/step - loss: 1.3501 - accuracy: 0.3573 - val_loss: 1.3530 - val_accuracy: 0.3508\n",
      "Epoch 37/100\n",
      "10000/10000 [==============================] - 15s 1ms/step - loss: 1.3501 - accuracy: 0.3573 - val_loss: 1.3530 - val_accuracy: 0.3508\n",
      "Epoch 38/100\n",
      "10000/10000 [==============================] - 14s 1ms/step - loss: 1.3501 - accuracy: 0.3573 - val_loss: 1.3529 - val_accuracy: 0.3508\n",
      "Epoch 39/100\n",
      "10000/10000 [==============================] - 15s 1ms/step - loss: 1.3501 - accuracy: 0.3573 - val_loss: 1.3530 - val_accuracy: 0.3508\n",
      "Epoch 40/100\n",
      "10000/10000 [==============================] - 15s 1ms/step - loss: 1.3501 - accuracy: 0.3573 - val_loss: 1.3528 - val_accuracy: 0.3508\n",
      "Epoch 41/100\n",
      "10000/10000 [==============================] - 14s 1ms/step - loss: 1.3501 - accuracy: 0.3573 - val_loss: 1.3530 - val_accuracy: 0.3508\n",
      "Epoch 42/100\n",
      "10000/10000 [==============================] - 14s 1ms/step - loss: 1.3501 - accuracy: 0.3573 - val_loss: 1.3529 - val_accuracy: 0.3508\n",
      "Epoch 43/100\n",
      "10000/10000 [==============================] - 14s 1ms/step - loss: 1.3501 - accuracy: 0.3573 - val_loss: 1.3528 - val_accuracy: 0.3508\n",
      "Epoch 44/100\n",
      "10000/10000 [==============================] - 14s 1ms/step - loss: 1.3501 - accuracy: 0.3573 - val_loss: 1.3528 - val_accuracy: 0.3508\n",
      "Epoch 45/100\n",
      "10000/10000 [==============================] - 14s 1ms/step - loss: 1.3501 - accuracy: 0.3573 - val_loss: 1.3529 - val_accuracy: 0.3508\n",
      "Epoch 46/100\n",
      "10000/10000 [==============================] - 14s 1ms/step - loss: 1.3501 - accuracy: 0.3573 - val_loss: 1.3528 - val_accuracy: 0.3508\n",
      "Epoch 47/100\n",
      "10000/10000 [==============================] - 14s 1ms/step - loss: 1.3501 - accuracy: 0.3573 - val_loss: 1.3530 - val_accuracy: 0.3508\n",
      "Epoch 48/100\n",
      "10000/10000 [==============================] - 15s 1ms/step - loss: 1.3501 - accuracy: 0.3573 - val_loss: 1.3530 - val_accuracy: 0.3508\n",
      "Epoch 49/100\n",
      "10000/10000 [==============================] - 15s 1ms/step - loss: 1.3501 - accuracy: 0.3573 - val_loss: 1.3530 - val_accuracy: 0.3508\n",
      "Epoch 50/100\n",
      "10000/10000 [==============================] - 15s 2ms/step - loss: 1.3501 - accuracy: 0.3573 - val_loss: 1.3528 - val_accuracy: 0.3508\n",
      "Epoch 51/100\n",
      "10000/10000 [==============================] - 14s 1ms/step - loss: 1.3501 - accuracy: 0.3573 - val_loss: 1.3528 - val_accuracy: 0.3508\n",
      "Epoch 52/100\n",
      "10000/10000 [==============================] - 15s 2ms/step - loss: 1.3501 - accuracy: 0.3573 - val_loss: 1.3530 - val_accuracy: 0.3508\n",
      "Epoch 53/100\n",
      "10000/10000 [==============================] - 15s 1ms/step - loss: 1.3501 - accuracy: 0.3573 - val_loss: 1.3531 - val_accuracy: 0.3508\n",
      "Epoch 54/100\n",
      "10000/10000 [==============================] - 14s 1ms/step - loss: 1.3501 - accuracy: 0.3573 - val_loss: 1.3529 - val_accuracy: 0.3508\n",
      "Epoch 55/100\n",
      "10000/10000 [==============================] - 14s 1ms/step - loss: 1.3501 - accuracy: 0.3573 - val_loss: 1.3529 - val_accuracy: 0.3508\n",
      "Epoch 56/100\n"
     ]
    },
    {
     "name": "stdout",
     "output_type": "stream",
     "text": [
      "10000/10000 [==============================] - 14s 1ms/step - loss: 1.3501 - accuracy: 0.3573 - val_loss: 1.3530 - val_accuracy: 0.3508\n",
      "Epoch 57/100\n",
      "10000/10000 [==============================] - 14s 1ms/step - loss: 1.3501 - accuracy: 0.3573 - val_loss: 1.3530 - val_accuracy: 0.3508\n",
      "Epoch 58/100\n",
      "10000/10000 [==============================] - 14s 1ms/step - loss: 1.3501 - accuracy: 0.3573 - val_loss: 1.3530 - val_accuracy: 0.3508\n",
      "Epoch 59/100\n",
      "10000/10000 [==============================] - 15s 1ms/step - loss: 1.3501 - accuracy: 0.3573 - val_loss: 1.3529 - val_accuracy: 0.3508\n",
      "Epoch 60/100\n",
      "10000/10000 [==============================] - 14s 1ms/step - loss: 1.3501 - accuracy: 0.3573 - val_loss: 1.3529 - val_accuracy: 0.3508\n",
      "Epoch 61/100\n",
      "10000/10000 [==============================] - 15s 1ms/step - loss: 1.3501 - accuracy: 0.3573 - val_loss: 1.3532 - val_accuracy: 0.3508\n",
      "Epoch 62/100\n",
      "10000/10000 [==============================] - 14s 1ms/step - loss: 1.3501 - accuracy: 0.3573 - val_loss: 1.3531 - val_accuracy: 0.3508\n",
      "Epoch 63/100\n",
      "10000/10000 [==============================] - 15s 1ms/step - loss: 1.3501 - accuracy: 0.3573 - val_loss: 1.3528 - val_accuracy: 0.3508\n",
      "Epoch 64/100\n",
      "10000/10000 [==============================] - 14s 1ms/step - loss: 1.3501 - accuracy: 0.3573 - val_loss: 1.3530 - val_accuracy: 0.3508\n",
      "Epoch 65/100\n",
      "10000/10000 [==============================] - 14s 1ms/step - loss: 1.3501 - accuracy: 0.3573 - val_loss: 1.3531 - val_accuracy: 0.3508\n",
      "Epoch 66/100\n",
      "10000/10000 [==============================] - 13s 1ms/step - loss: 1.3501 - accuracy: 0.3573 - val_loss: 1.3530 - val_accuracy: 0.3508\n",
      "Epoch 67/100\n",
      "10000/10000 [==============================] - 15s 1ms/step - loss: 1.3501 - accuracy: 0.3573 - val_loss: 1.3528 - val_accuracy: 0.3508\n",
      "Epoch 68/100\n",
      "10000/10000 [==============================] - 14s 1ms/step - loss: 1.3501 - accuracy: 0.3573 - val_loss: 1.3529 - val_accuracy: 0.3508\n",
      "Epoch 69/100\n",
      "10000/10000 [==============================] - 14s 1ms/step - loss: 1.3501 - accuracy: 0.3573 - val_loss: 1.3530 - val_accuracy: 0.3508\n",
      "Epoch 70/100\n",
      "10000/10000 [==============================] - 14s 1ms/step - loss: 1.3501 - accuracy: 0.3573 - val_loss: 1.3529 - val_accuracy: 0.3508\n",
      "Epoch 71/100\n",
      "10000/10000 [==============================] - 13s 1ms/step - loss: 1.3501 - accuracy: 0.3573 - val_loss: 1.3529 - val_accuracy: 0.3508\n",
      "Epoch 72/100\n",
      "10000/10000 [==============================] - 13s 1ms/step - loss: 1.3501 - accuracy: 0.3573 - val_loss: 1.3529 - val_accuracy: 0.3508\n",
      "Epoch 73/100\n",
      "10000/10000 [==============================] - 14s 1ms/step - loss: 1.3501 - accuracy: 0.3573 - val_loss: 1.3532 - val_accuracy: 0.3508\n",
      "Epoch 74/100\n",
      "10000/10000 [==============================] - 14s 1ms/step - loss: 1.3501 - accuracy: 0.3573 - val_loss: 1.3530 - val_accuracy: 0.3508\n",
      "Epoch 75/100\n",
      "10000/10000 [==============================] - 14s 1ms/step - loss: 1.3501 - accuracy: 0.3573 - val_loss: 1.3531 - val_accuracy: 0.3508\n",
      "Epoch 76/100\n",
      "10000/10000 [==============================] - 14s 1ms/step - loss: 1.3501 - accuracy: 0.3573 - val_loss: 1.3533 - val_accuracy: 0.3508\n",
      "Epoch 77/100\n",
      "10000/10000 [==============================] - 13s 1ms/step - loss: 1.3501 - accuracy: 0.3573 - val_loss: 1.3529 - val_accuracy: 0.3508\n",
      "Epoch 78/100\n",
      "10000/10000 [==============================] - 15s 1ms/step - loss: 1.3501 - accuracy: 0.3573 - val_loss: 1.3529 - val_accuracy: 0.3508\n",
      "Epoch 79/100\n",
      "10000/10000 [==============================] - 14s 1ms/step - loss: 1.3501 - accuracy: 0.3573 - val_loss: 1.3532 - val_accuracy: 0.3508\n",
      "Epoch 80/100\n",
      "10000/10000 [==============================] - 14s 1ms/step - loss: 1.3501 - accuracy: 0.3573 - val_loss: 1.3529 - val_accuracy: 0.3508\n",
      "Epoch 81/100\n",
      "10000/10000 [==============================] - 14s 1ms/step - loss: 1.3501 - accuracy: 0.3573 - val_loss: 1.3529 - val_accuracy: 0.3508\n",
      "Epoch 82/100\n",
      "10000/10000 [==============================] - 14s 1ms/step - loss: 1.3501 - accuracy: 0.3573 - val_loss: 1.3529 - val_accuracy: 0.3508\n",
      "Epoch 83/100\n",
      "10000/10000 [==============================] - 14s 1ms/step - loss: 1.3501 - accuracy: 0.3573 - val_loss: 1.3528 - val_accuracy: 0.3508\n",
      "Epoch 84/100\n",
      "10000/10000 [==============================] - 14s 1ms/step - loss: 1.3501 - accuracy: 0.3573 - val_loss: 1.3531 - val_accuracy: 0.3508\n",
      "Epoch 85/100\n",
      "10000/10000 [==============================] - 14s 1ms/step - loss: 1.3501 - accuracy: 0.3573 - val_loss: 1.3531 - val_accuracy: 0.3508\n",
      "Epoch 86/100\n",
      "10000/10000 [==============================] - 14s 1ms/step - loss: 1.3501 - accuracy: 0.3573 - val_loss: 1.3528 - val_accuracy: 0.3508\n",
      "Epoch 87/100\n",
      "10000/10000 [==============================] - 13s 1ms/step - loss: 1.3501 - accuracy: 0.3573 - val_loss: 1.3531 - val_accuracy: 0.3508\n",
      "Epoch 88/100\n",
      "10000/10000 [==============================] - 14s 1ms/step - loss: 1.3501 - accuracy: 0.3573 - val_loss: 1.3528 - val_accuracy: 0.3508\n",
      "Epoch 89/100\n",
      "10000/10000 [==============================] - 14s 1ms/step - loss: 1.3501 - accuracy: 0.3573 - val_loss: 1.3530 - val_accuracy: 0.3508\n",
      "Epoch 90/100\n",
      "10000/10000 [==============================] - 14s 1ms/step - loss: 1.3501 - accuracy: 0.3573 - val_loss: 1.3529 - val_accuracy: 0.3508\n",
      "Epoch 91/100\n",
      "10000/10000 [==============================] - 14s 1ms/step - loss: 1.3501 - accuracy: 0.3573 - val_loss: 1.3528 - val_accuracy: 0.3508\n",
      "Epoch 92/100\n",
      "10000/10000 [==============================] - 14s 1ms/step - loss: 1.3501 - accuracy: 0.3573 - val_loss: 1.3530 - val_accuracy: 0.3508\n",
      "Epoch 93/100\n",
      "10000/10000 [==============================] - 14s 1ms/step - loss: 1.3501 - accuracy: 0.3573 - val_loss: 1.3528 - val_accuracy: 0.3508\n",
      "Epoch 94/100\n",
      "10000/10000 [==============================] - 15s 1ms/step - loss: 1.3501 - accuracy: 0.3573 - val_loss: 1.3528 - val_accuracy: 0.3508\n",
      "Epoch 95/100\n",
      "10000/10000 [==============================] - 14s 1ms/step - loss: 1.3501 - accuracy: 0.3573 - val_loss: 1.3530 - val_accuracy: 0.3508\n",
      "Epoch 96/100\n",
      "10000/10000 [==============================] - 15s 1ms/step - loss: 1.3501 - accuracy: 0.3573 - val_loss: 1.3528 - val_accuracy: 0.3508\n",
      "Epoch 97/100\n",
      "10000/10000 [==============================] - 14s 1ms/step - loss: 1.3501 - accuracy: 0.3573 - val_loss: 1.3530 - val_accuracy: 0.3508\n",
      "Epoch 98/100\n",
      "10000/10000 [==============================] - 14s 1ms/step - loss: 1.3501 - accuracy: 0.3573 - val_loss: 1.3530 - val_accuracy: 0.3508\n",
      "Epoch 99/100\n",
      "10000/10000 [==============================] - 15s 1ms/step - loss: 1.3501 - accuracy: 0.3573 - val_loss: 1.3528 - val_accuracy: 0.3508\n",
      "Epoch 100/100\n",
      "10000/10000 [==============================] - 14s 1ms/step - loss: 1.3501 - accuracy: 0.3573 - val_loss: 1.3529 - val_accuracy: 0.3508\n",
      "12500/12500 [==============================] - 9s 759us/step - loss: 1.3506 - accuracy: 0.3560\n",
      "Train score: [1.3505970239639282, 0.35600000619888306]\n",
      "3125/3125 [==============================] - 2s 782us/step - loss: 1.3502 - accuracy: 0.3563\n",
      "Test score: [1.350157380104065, 0.3563399910926819]\n"
     ]
    }
   ],
   "source": [
    "# Train data\n",
    "r = model.fit(x_train_norm, y_train_np, validation_split=0.2, epochs=100)\n",
    "# Evaluate the model - evaluate() returns loss and accuracy\n",
    "print(\"Train score:\", model.evaluate(x_train_norm, y_train_np))\n",
    "print(\"Test score:\", model.evaluate(x_test_norm, y_test_np))"
   ]
  },
  {
   "cell_type": "code",
   "execution_count": 40,
   "metadata": {},
   "outputs": [
    {
     "data": {
      "text/plain": [
       "<matplotlib.legend.Legend at 0x259a28e5100>"
      ]
     },
     "execution_count": 40,
     "metadata": {},
     "output_type": "execute_result"
    },
    {
     "data": {
      "image/png": "[encoded data removed]",
      "text/plain": [
       "<Figure size 432x288 with 1 Axes>"
      ]
     },
     "metadata": {
      "needs_background": "light"
     },
     "output_type": "display_data"
    }
   ],
   "source": [
    "# Plot what's returned by model.fit()\n",
    "plt.plot(r.history['loss'], label='loss')\n",
    "plt.plot(r.history['val_loss'], label='val_loss')\n",
    "plt.legend()"
   ]
  },
  {
   "cell_type": "code",
   "execution_count": 41,
   "metadata": {},
   "outputs": [
    {
     "data": {
      "text/plain": [
       "<matplotlib.legend.Legend at 0x259a28eaf70>"
      ]
     },
     "execution_count": 41,
     "metadata": {},
     "output_type": "execute_result"
    },
    {
     "data": {
      "image/png": "[encoded data removed]",
      "text/plain": [
       "<Figure size 432x288 with 1 Axes>"
      ]
     },
     "metadata": {
      "needs_background": "light"
     },
     "output_type": "display_data"
    }
   ],
   "source": [
    "# Plot the accuracy too\n",
    "plt.plot(r.history['accuracy'], label='acc')\n",
    "plt.plot(r.history['val_accuracy'], label='val_acc')\n",
    "plt.legend()"
   ]
  },
  {
   "cell_type": "code",
   "execution_count": null,
   "metadata": {},
   "outputs": [],
   "source": []
  },
  {
   "cell_type": "markdown",
   "metadata": {},
   "source": [
    "### Section 3.2 Convolution neural network"
   ]
  },
  {
   "cell_type": "code",
   "execution_count": 48,
   "metadata": {},
   "outputs": [],
   "source": [
    "# Prepare data for cnn model\n",
    "x_train_img_norm = x_train_img / 255\n",
    "x_test_img_norm = x_test_img / 255"
   ]
  },
  {
   "cell_type": "code",
   "execution_count": 49,
   "metadata": {},
   "outputs": [
    {
     "data": {
      "text/plain": [
       "(400000, 28, 28, 4)"
      ]
     },
     "execution_count": 49,
     "metadata": {},
     "output_type": "execute_result"
    }
   ],
   "source": [
    "x_train_img.shape"
   ]
  },
  {
   "cell_type": "code",
   "execution_count": 50,
   "metadata": {},
   "outputs": [
    {
     "data": {
      "text/plain": [
       "<tensorflow.python.keras.layers.convolutional.Conv2D at 0x259a18c9ee0>"
      ]
     },
     "execution_count": 50,
     "metadata": {},
     "output_type": "execute_result"
    }
   ],
   "source": [
    "# Build cnn model\n",
    "Conv2D(10, kernel_size=3, activation='relu')"
   ]
  },
  {
   "cell_type": "code",
   "execution_count": 51,
   "metadata": {},
   "outputs": [],
   "source": [
    "cnn_model = Sequential()\n",
    "cnn_model.add(Conv2D(10, kernel_size=3, activation='relu', input_shape=(28, 28, 4)))\n",
    "cnn_model.add(Flatten())\n",
    "cnn_model.add(Dense(4, activation='softmax'))"
   ]
  },
  {
   "cell_type": "code",
   "execution_count": 52,
   "metadata": {},
   "outputs": [],
   "source": [
    "# Compile model\n",
    "cnn_model.compile(optimizer='adam', loss='categorical_crossentropy', metrics=['accuracy'])"
   ]
  },
  {
   "cell_type": "code",
   "execution_count": 55,
   "metadata": {},
   "outputs": [
    {
     "name": "stdout",
     "output_type": "stream",
     "text": [
      "Epoch 1/3\n",
      "10000/10000 [==============================] - 60s 6ms/step - loss: 0.2876 - accuracy: 0.9034 - val_loss: 0.1910 - val_accuracy: 0.9375\n",
      "Epoch 2/3\n",
      "10000/10000 [==============================] - 39s 4ms/step - loss: 0.1946 - accuracy: 0.9377 - val_loss: 0.1734 - val_accuracy: 0.9392\n",
      "Epoch 3/3\n",
      "10000/10000 [==============================] - 38s 4ms/step - loss: 0.1654 - accuracy: 0.9465 - val_loss: 0.1497 - val_accuracy: 0.9464\n"
     ]
    }
   ],
   "source": [
    "# Fit model\n",
    "r_cnn = cnn_model.fit(x_train_img_norm, y_train_np, validation_split=0.2, epochs=3)"
   ]
  },
  {
   "cell_type": "code",
   "execution_count": 57,
   "metadata": {},
   "outputs": [
    {
     "name": "stdout",
     "output_type": "stream",
     "text": [
      "12500/12500 [==============================] - 16s 1ms/step - loss: 0.1454 - accuracy: 0.9486\n",
      "Train score: [0.1454271525144577, 0.9485574960708618]\n",
      "3125/3125 [==============================] - 5s 2ms/step - loss: 0.1523 - accuracy: 0.9460\n",
      "Test score: [0.1523299366235733, 0.9460099935531616]\n"
     ]
    }
   ],
   "source": [
    "# Evaluate the model - evaluate() returns loss and accuracy\n",
    "print(\"Train score:\", cnn_model.evaluate(x_train_img_norm, y_train_np))\n",
    "print(\"Test score:\", cnn_model.evaluate(x_test_img_norm, y_test_np))"
   ]
  },
  {
   "cell_type": "code",
   "execution_count": 58,
   "metadata": {},
   "outputs": [
    {
     "data": {
      "text/plain": [
       "<matplotlib.legend.Legend at 0x259a1881760>"
      ]
     },
     "execution_count": 58,
     "metadata": {},
     "output_type": "execute_result"
    },
    {
     "data": {
      "image/png": "[encoded data removed]",
      "text/plain": [
       "<Figure size 432x288 with 1 Axes>"
      ]
     },
     "metadata": {
      "needs_background": "light"
     },
     "output_type": "display_data"
    }
   ],
   "source": [
    "# Plot what's returned by model.fit()\n",
    "plt.plot(r_cnn.history['loss'], label='loss')\n",
    "plt.plot(r_cnn.history['val_loss'], label='val_loss')\n",
    "plt.legend()"
   ]
  },
  {
   "cell_type": "code",
   "execution_count": 59,
   "metadata": {},
   "outputs": [
    {
     "data": {
      "text/plain": [
       "<matplotlib.legend.Legend at 0x2590c6cdcd0>"
      ]
     },
     "execution_count": 59,
     "metadata": {},
     "output_type": "execute_result"
    },
    {
     "data": {
      "image/png": "[encoded data removed]",
      "text/plain": [
       "<Figure size 432x288 with 1 Axes>"
      ]
     },
     "metadata": {
      "needs_background": "light"
     },
     "output_type": "display_data"
    }
   ],
   "source": [
    "# Plot the accuracy too\n",
    "plt.plot(r_cnn.history['accuracy'], label='acc')\n",
    "plt.plot(r_cnn.history['val_accuracy'], label='val_acc')\n",
    "plt.legend()"
   ]
  },
  {
   "cell_type": "markdown",
   "metadata": {},
   "source": [
    "### Section 3.3 GAN model"
   ]
  },
  {
   "cell_type": "code",
   "execution_count": 69,
   "metadata": {},
   "outputs": [],
   "source": [
    "N, H, W, C = x_train_img_norm.shape\n",
    "D = H * W * C"
   ]
  },
  {
   "cell_type": "code",
   "execution_count": 70,
   "metadata": {},
   "outputs": [],
   "source": [
    "# Dimensionality of the latent space\n",
    "latent_dim = 100"
   ]
  },
  {
   "cell_type": "code",
   "execution_count": 71,
   "metadata": {},
   "outputs": [],
   "source": [
    "# Get the generator model\n",
    "def build_generator(latent_dim):\n",
    "    i = Input(shape=(latent_dim,))\n",
    "    x = Dense(256, activation=LeakyReLU(alpha=0.2))(i)\n",
    "    x = BatchNormalization(momentum=0.8)(x)\n",
    "    x = Dense(512, activation=LeakyReLU(alpha=0.2))(i)\n",
    "    x = BatchNormalization(momentum=0.8)(x)\n",
    "    x = Dense(1024, activation=LeakyReLU(alpha=0.2))(i)\n",
    "    x = BatchNormalization(momentum=0.8)(x)\n",
    "    x = Dense(D, activation='tanh')(x)\n",
    "    \n",
    "    model = Model(i, x)\n",
    "    return model"
   ]
  },
  {
   "cell_type": "code",
   "execution_count": 72,
   "metadata": {},
   "outputs": [],
   "source": [
    "# Get the discriminator model\n",
    "def build_discriminator(img_size):\n",
    "    i = Input(shape=(img_size,))\n",
    "    x = Dense(512, activation=LeakyReLU(alpha=0.2))(i)\n",
    "    x = Dense(256, activation=LeakyReLU(alpha=0.2))(x)\n",
    "    x = Dense(1, activation='sigmoid')(x)\n",
    "    model = Model(i,x)\n",
    "    return model   "
   ]
  },
  {
   "cell_type": "code",
   "execution_count": 73,
   "metadata": {},
   "outputs": [],
   "source": [
    "# Compile both models in preparation for training\n",
    "\n",
    "# Build and compile the discriminator\n",
    "discriminator = build_discriminator(D)\n",
    "discriminator.compile(\n",
    "    loss='binary_crossentropy',\n",
    "    optimizer=Adam(0.0002, 0.5),\n",
    "    metrics=['accuracy'])\n",
    "\n",
    "# Build and compile the combined model\n",
    "generator = build_generator(latent_dim)\n",
    "\n",
    "# Create an input to represent noise sample from latent space\n",
    "z = Input(shape=(latent_dim,))\n",
    "\n",
    "# Pass noise through generator to get an image\n",
    "img = generator(z)\n",
    "\n",
    "# Make sure only the generator is trained\n",
    "discriminator.trainable = False\n",
    "\n",
    "# Take true output is fake, but we label them real!\n",
    "fake_pred = discriminator(img)\n",
    "\n",
    "# Create the combined model object\n",
    "combined_model = Model(z, fake_pred)\n",
    "\n",
    "# Compile the combined model\n",
    "combined_model.compile(loss='binary_crossentropy', optimizer=Adam(0.0002, 0.5))\n"
   ]
  },
  {
   "cell_type": "code",
   "execution_count": 103,
   "metadata": {},
   "outputs": [],
   "source": [
    "# Train the GAN\n",
    "\n",
    "# Config\n",
    "batch_size = 32\n",
    "epochs = 1000\n",
    "sample_period = 100 # every 'sample_period' steps generate and save some data\n",
    "\n",
    "# Create batch labels to use when calling train_on_batch\n",
    "ones = np.ones(batch_size)\n",
    "zeros = np.zeros(batch_size)\n",
    "\n",
    "# Store the losses\n",
    "d_losses = []\n",
    "g_losses = []\n",
    "\n",
    "# Create a folder to store generated images\n",
    "if not os.path.exists('gan_images'):\n",
    "    os.makedirs('gan_images')"
   ]
  },
  {
   "cell_type": "code",
   "execution_count": 104,
   "metadata": {},
   "outputs": [],
   "source": [
    "# A function to generate a grid of random samples from the generator and save them to a file\n",
    "def sample_images(epoch):\n",
    "    rows, cols = 5, 5\n",
    "    noise = np.random.randn(rows * cols, latent_dim)\n",
    "    imgs = generator.predict(noise)\n",
    "    \n",
    "    # Rescale images 0 - 1\n",
    "    imgs = 0.5 * imgs + 0.5\n",
    "    \n",
    "    fig, axs = plt.subplots(rows, cols)\n",
    "    idx = 0\n",
    "    for i in range(rows):\n",
    "        for j in range(cols):\n",
    "            axs[i,j].imshow(imgs[idx].reshape(H, W, C), cmap='rainbow')\n",
    "            axs[i,j].axis('off')\n",
    "            idx += 1\n",
    "    fig.savefig(\"gan_images/%d.png\" % epoch)\n",
    "    plt.close()"
   ]
  },
  {
   "cell_type": "code",
   "execution_count": 105,
   "metadata": {},
   "outputs": [],
   "source": [
    "# Now we normalize data. This means we make the mean 0, and the standard deviation 1 for the best results. However, dividing the image by 255 is good enough. We will just divide the array by 255:\n",
    "x_train_np_norm = x_train_np / 255\n",
    "x_test_np_norm = x_test_np / 255"
   ]
  },
  {
   "cell_type": "code",
   "execution_count": 106,
   "metadata": {},
   "outputs": [
    {
     "name": "stdout",
     "output_type": "stream",
     "text": [
      "epoch: 1/1000, d_loss: 0.73, d_acc: 0.48, g_loss: 0.85\n",
      "epoch: 101/1000, d_loss: 0.70, d_acc: 0.48, g_loss: 0.87\n",
      "epoch: 201/1000, d_loss: 0.71, d_acc: 0.48, g_loss: 0.84\n",
      "epoch: 301/1000, d_loss: 0.70, d_acc: 0.50, g_loss: 0.83\n",
      "epoch: 401/1000, d_loss: 0.73, d_acc: 0.48, g_loss: 0.86\n",
      "epoch: 501/1000, d_loss: 0.74, d_acc: 0.47, g_loss: 0.85\n",
      "epoch: 601/1000, d_loss: 0.68, d_acc: 0.52, g_loss: 0.83\n",
      "epoch: 701/1000, d_loss: 0.70, d_acc: 0.50, g_loss: 0.83\n",
      "epoch: 801/1000, d_loss: 0.70, d_acc: 0.48, g_loss: 0.82\n",
      "epoch: 901/1000, d_loss: 0.70, d_acc: 0.48, g_loss: 0.86\n"
     ]
    }
   ],
   "source": [
    "# Main training loop\n",
    "for epoch in range(epochs):\n",
    "    ## Train discriminator##\n",
    "    \n",
    "    # Select a random batch of images\n",
    "    idx = np.random.randint(0, x_train_np_norm.shape[0], batch_size)\n",
    "    real_imgs = x_train_np_norm[idx]\n",
    "   \n",
    "    \n",
    "    # Generate fake images\n",
    "    noise = np.random.randn(batch_size, latent_dim)\n",
    "    fake_imgs = generator.predict(noise)\n",
    "    \n",
    "    #Train the dsicriminator\n",
    "    # both loss and accuracy are returned\n",
    "    d_loss_real, d_acc_real = discriminator.train_on_batch(real_imgs, ones)\n",
    "    d_loss_fake, d_acc_fake = discriminator.train_on_batch(fake_imgs, zeros)\n",
    "    d_loss = 0.5 * (d_loss_real + d_loss_fake)\n",
    "    d_acc = 0.5 * (d_acc_real  + d_acc_fake)\n",
    "    \n",
    "    \n",
    "    ## Train generator\n",
    "    noise = np.random.randn(batch_size, latent_dim)\n",
    "    g_loss = combined_model.train_on_batch(noise, ones)\n",
    "    \n",
    "    # Save the losses\n",
    "    d_losses.append(d_loss)\n",
    "    g_losses.append(g_loss)\n",
    "    \n",
    "    if epoch % 100 == 0:\n",
    "        print(f\"epoch: {epoch+1}/{epochs}, d_loss: {d_loss:.2f}, d_acc: {d_acc:.2f}, g_loss: {g_loss:.2f}\")\n",
    "              \n",
    "    if epoch % sample_period == 0:\n",
    "        sample_images(epoch)"
   ]
  },
  {
   "cell_type": "code",
   "execution_count": 115,
   "metadata": {},
   "outputs": [
    {
     "data": {
      "image/png": "[encoded data removed]",
      "text/plain": [
       "<Figure size 432x288 with 1 Axes>"
      ]
     },
     "metadata": {
      "needs_background": "light"
     },
     "output_type": "display_data"
    }
   ],
   "source": [
    "plt.plot(d_losses, label = 'd_loss')\n",
    "plt.plot(g_losses, label = 'g_loss')\n",
    "plt.legend()\n",
    "plt.show()"
   ]
  },
  {
   "cell_type": "code",
   "execution_count": 123,
   "metadata": {},
   "outputs": [
    {
     "name": "stdout",
     "output_type": "stream",
     "text": [
      " Volume in drive C is OS\n",
      " Volume Serial Number is 28DE-85CA\n",
      "\n",
      " Directory of C:\\Users\\Grace-2019\\Documents\\SpringBoard_Data_Camp\\Capstone_project3\\satellite_image\\cvs_file\\gan_images\n",
      "\n",
      "11/16/2020  03:37 PM    <DIR>          .\n",
      "11/16/2020  03:37 PM    <DIR>          ..\n",
      "11/16/2020  02:25 PM           106,316 0.png\n",
      "11/16/2020  02:33 PM           106,212 100.png\n",
      "11/16/2020  02:41 PM           105,927 200.png\n",
      "11/16/2020  02:49 PM           105,440 300.png\n",
      "11/16/2020  02:57 PM           105,791 400.png\n",
      "11/16/2020  03:05 PM           106,747 500.png\n",
      "11/16/2020  03:14 PM           106,690 600.png\n",
      "11/16/2020  03:22 PM           106,559 700.png\n",
      "11/16/2020  03:30 PM           106,488 800.png\n",
      "11/16/2020  03:37 PM           106,515 900.png\n",
      "              10 File(s)      1,062,685 bytes\n",
      "               2 Dir(s)  579,724,574,720 bytes free\n"
     ]
    }
   ],
   "source": [
    "ls gan_images"
   ]
  },
  {
   "cell_type": "code",
   "execution_count": 120,
   "metadata": {},
   "outputs": [
    {
     "data": {
      "text/plain": [
       "<matplotlib.image.AxesImage at 0x2590c388ca0>"
      ]
     },
     "execution_count": 120,
     "metadata": {},
     "output_type": "execute_result"
    },
    {
     "data": {
      "image/png": "[encoded data removed]",
      "text/plain": [
       "<Figure size 432x288 with 1 Axes>"
      ]
     },
     "metadata": {
      "needs_background": "light"
     },
     "output_type": "display_data"
    }
   ],
   "source": [
    "a = imread('gan_images/0.png')\n",
    "plt.imshow(a)"
   ]
  },
  {
   "cell_type": "code",
   "execution_count": null,
   "metadata": {},
   "outputs": [],
   "source": [
    "# Save model\n",
    "\n",
    "\n",
    "\n"
   ]
  },
  {
   "cell_type": "code",
   "execution_count": 86,
   "metadata": {},
   "outputs": [
    {
     "data": {
      "text/plain": [
       "pandas.core.frame.DataFrame"
      ]
     },
     "execution_count": 86,
     "metadata": {},
     "output_type": "execute_result"
    }
   ],
   "source": []
  },
  {
   "cell_type": "code",
   "execution_count": null,
   "metadata": {},
   "outputs": [],
   "source": []
  },
  {
   "cell_type": "code",
   "execution_count": null,
   "metadata": {},
   "outputs": [],
   "source": []
  },
  {
   "cell_type": "code",
   "execution_count": null,
   "metadata": {},
   "outputs": [],
   "source": []
  },
  {
   "cell_type": "code",
   "execution_count": null,
   "metadata": {},
   "outputs": [],
   "source": []
  },
  {
   "cell_type": "code",
   "execution_count": null,
   "metadata": {},
   "outputs": [],
   "source": []
  },
  {
   "cell_type": "markdown",
   "metadata": {},
   "source": [
    "## Section 4 Model Prediction"
   ]
  },
  {
   "cell_type": "code",
   "execution_count": null,
   "metadata": {},
   "outputs": [],
   "source": []
  },
  {
   "cell_type": "code",
   "execution_count": null,
   "metadata": {},
   "outputs": [],
   "source": []
  }
 ],
 "metadata": {
  "kernelspec": {
   "display_name": "Python 3",
   "language": "python",
   "name": "python3"
  },
  "language_info": {
   "codemirror_mode": {
    "name": "ipython",
    "version": 3
   },
   "file_extension": ".py",
   "mimetype": "text/x-python",
   "name": "python",
   "nbconvert_exporter": "python",
   "pygments_lexer": "ipython3",
   "version": "3.8.3"
  }
 },
 "nbformat": 4,
 "nbformat_minor": 4
}
