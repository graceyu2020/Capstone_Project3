{
 "cells": [
  {
   "cell_type": "code",
   "execution_count": 1,
   "metadata": {},
   "outputs": [],
   "source": [
    "import numpy as np\n",
    "import pandas as pd\n",
    "import pickle\n",
    "from sklearn.model_selection import train_test_split\n",
    "from sklearn.preprocessing import StandardScaler\n",
    "from sklearn.utils import shuffle\n",
    "from sklearn.preprocessing import LabelEncoder, OrdinalEncoder\n",
    "from sklearn.ensemble import RandomForestClassifier\n",
    "import matplotlib.pyplot as plt"
   ]
  },
  {
   "cell_type": "markdown",
   "metadata": {},
   "source": [
    "### Load training data"
   ]
  },
  {
   "cell_type": "code",
   "execution_count": 2,
   "metadata": {},
   "outputs": [],
   "source": [
    "data = pd.read_csv('train.csv', sep=';')"
   ]
  },
  {
   "cell_type": "code",
   "execution_count": 3,
   "metadata": {},
   "outputs": [
    {
     "data": {
      "text/html": [
       "<div>\n",
       "<style scoped>\n",
       "    .dataframe tbody tr th:only-of-type {\n",
       "        vertical-align: middle;\n",
       "    }\n",
       "\n",
       "    .dataframe tbody tr th {\n",
       "        vertical-align: top;\n",
       "    }\n",
       "\n",
       "    .dataframe thead th {\n",
       "        text-align: right;\n",
       "    }\n",
       "</style>\n",
       "<table border=\"1\" class=\"dataframe\">\n",
       "  <thead>\n",
       "    <tr style=\"text-align: right;\">\n",
       "      <th></th>\n",
       "      <th>WELL</th>\n",
       "      <th>DEPTH_MD</th>\n",
       "      <th>X_LOC</th>\n",
       "      <th>Y_LOC</th>\n",
       "      <th>Z_LOC</th>\n",
       "      <th>GROUP</th>\n",
       "      <th>FORMATION</th>\n",
       "      <th>CALI</th>\n",
       "      <th>RSHA</th>\n",
       "      <th>RMED</th>\n",
       "      <th>...</th>\n",
       "      <th>ROP</th>\n",
       "      <th>DTS</th>\n",
       "      <th>DCAL</th>\n",
       "      <th>DRHO</th>\n",
       "      <th>MUDWEIGHT</th>\n",
       "      <th>RMIC</th>\n",
       "      <th>ROPA</th>\n",
       "      <th>RXO</th>\n",
       "      <th>FORCE_2020_LITHOFACIES_LITHOLOGY</th>\n",
       "      <th>FORCE_2020_LITHOFACIES_CONFIDENCE</th>\n",
       "    </tr>\n",
       "  </thead>\n",
       "  <tbody>\n",
       "    <tr>\n",
       "      <th>372313</th>\n",
       "      <td>25/6-2</td>\n",
       "      <td>2269.352000</td>\n",
       "      <td>489836.28125</td>\n",
       "      <td>6602686.5</td>\n",
       "      <td>-2241.471680</td>\n",
       "      <td>CROMER KNOLL GP.</td>\n",
       "      <td>Mime Fm.</td>\n",
       "      <td>12.581059</td>\n",
       "      <td>3.054129</td>\n",
       "      <td>2.510636</td>\n",
       "      <td>...</td>\n",
       "      <td>5818.612793</td>\n",
       "      <td>NaN</td>\n",
       "      <td>NaN</td>\n",
       "      <td>0.038712</td>\n",
       "      <td>0.143792</td>\n",
       "      <td>2.756711</td>\n",
       "      <td>NaN</td>\n",
       "      <td>1.715284</td>\n",
       "      <td>80000</td>\n",
       "      <td>2.0</td>\n",
       "    </tr>\n",
       "    <tr>\n",
       "      <th>1153676</th>\n",
       "      <td>7/1-1</td>\n",
       "      <td>554.104800</td>\n",
       "      <td>450396.56250</td>\n",
       "      <td>6406647.5</td>\n",
       "      <td>-520.102173</td>\n",
       "      <td>NORDLAND GP.</td>\n",
       "      <td>NaN</td>\n",
       "      <td>18.069183</td>\n",
       "      <td>1.307377</td>\n",
       "      <td>1.309063</td>\n",
       "      <td>...</td>\n",
       "      <td>0.224774</td>\n",
       "      <td>NaN</td>\n",
       "      <td>0.569183</td>\n",
       "      <td>NaN</td>\n",
       "      <td>1.054472</td>\n",
       "      <td>NaN</td>\n",
       "      <td>NaN</td>\n",
       "      <td>NaN</td>\n",
       "      <td>65000</td>\n",
       "      <td>1.0</td>\n",
       "    </tr>\n",
       "    <tr>\n",
       "      <th>462810</th>\n",
       "      <td>26/4-1</td>\n",
       "      <td>2923.952200</td>\n",
       "      <td>501132.25000</td>\n",
       "      <td>6608171.5</td>\n",
       "      <td>-2900.683105</td>\n",
       "      <td>DUNLIN GP.</td>\n",
       "      <td>Drake Fm.</td>\n",
       "      <td>9.095864</td>\n",
       "      <td>4.777131</td>\n",
       "      <td>8.669496</td>\n",
       "      <td>...</td>\n",
       "      <td>5.416234</td>\n",
       "      <td>NaN</td>\n",
       "      <td>0.595864</td>\n",
       "      <td>0.017973</td>\n",
       "      <td>0.143792</td>\n",
       "      <td>NaN</td>\n",
       "      <td>NaN</td>\n",
       "      <td>NaN</td>\n",
       "      <td>65000</td>\n",
       "      <td>1.0</td>\n",
       "    </tr>\n",
       "    <tr>\n",
       "      <th>777414</th>\n",
       "      <td>34/10-21</td>\n",
       "      <td>2888.490403</td>\n",
       "      <td>454130.84375</td>\n",
       "      <td>6777267.0</td>\n",
       "      <td>-2859.038330</td>\n",
       "      <td>SHETLAND GP.</td>\n",
       "      <td>Kyrre Fm.</td>\n",
       "      <td>13.344760</td>\n",
       "      <td>0.893483</td>\n",
       "      <td>1.352168</td>\n",
       "      <td>...</td>\n",
       "      <td>NaN</td>\n",
       "      <td>NaN</td>\n",
       "      <td>NaN</td>\n",
       "      <td>0.010415</td>\n",
       "      <td>NaN</td>\n",
       "      <td>NaN</td>\n",
       "      <td>NaN</td>\n",
       "      <td>0.987641</td>\n",
       "      <td>65000</td>\n",
       "      <td>1.0</td>\n",
       "    </tr>\n",
       "    <tr>\n",
       "      <th>888544</th>\n",
       "      <td>34/5-1 A</td>\n",
       "      <td>3797.177992</td>\n",
       "      <td>479081.75000</td>\n",
       "      <td>6844708.0</td>\n",
       "      <td>-3231.346191</td>\n",
       "      <td>SHETLAND GP.</td>\n",
       "      <td>Kyrre Fm.</td>\n",
       "      <td>12.050184</td>\n",
       "      <td>NaN</td>\n",
       "      <td>1.600577</td>\n",
       "      <td>...</td>\n",
       "      <td>35.602058</td>\n",
       "      <td>196.17395</td>\n",
       "      <td>NaN</td>\n",
       "      <td>-0.008531</td>\n",
       "      <td>NaN</td>\n",
       "      <td>NaN</td>\n",
       "      <td>25.36585</td>\n",
       "      <td>NaN</td>\n",
       "      <td>65000</td>\n",
       "      <td>1.0</td>\n",
       "    </tr>\n",
       "    <tr>\n",
       "      <th>56869</th>\n",
       "      <td>16/1-6 A</td>\n",
       "      <td>1449.275735</td>\n",
       "      <td>459499.12500</td>\n",
       "      <td>6539472.5</td>\n",
       "      <td>-1410.602783</td>\n",
       "      <td>HORDALAND GP.</td>\n",
       "      <td>Skade Fm.</td>\n",
       "      <td>9.126155</td>\n",
       "      <td>NaN</td>\n",
       "      <td>0.648945</td>\n",
       "      <td>...</td>\n",
       "      <td>24.565605</td>\n",
       "      <td>NaN</td>\n",
       "      <td>NaN</td>\n",
       "      <td>NaN</td>\n",
       "      <td>0.173748</td>\n",
       "      <td>NaN</td>\n",
       "      <td>NaN</td>\n",
       "      <td>NaN</td>\n",
       "      <td>65000</td>\n",
       "      <td>1.0</td>\n",
       "    </tr>\n",
       "    <tr>\n",
       "      <th>901079</th>\n",
       "      <td>34/7-20</td>\n",
       "      <td>1531.022000</td>\n",
       "      <td>448295.62500</td>\n",
       "      <td>6812831.0</td>\n",
       "      <td>-1504.985718</td>\n",
       "      <td>HORDALAND GP.</td>\n",
       "      <td>Utsira Fm.</td>\n",
       "      <td>17.890642</td>\n",
       "      <td>0.773303</td>\n",
       "      <td>0.564566</td>\n",
       "      <td>...</td>\n",
       "      <td>NaN</td>\n",
       "      <td>NaN</td>\n",
       "      <td>NaN</td>\n",
       "      <td>-0.004461</td>\n",
       "      <td>NaN</td>\n",
       "      <td>NaN</td>\n",
       "      <td>NaN</td>\n",
       "      <td>NaN</td>\n",
       "      <td>65000</td>\n",
       "      <td>1.0</td>\n",
       "    </tr>\n",
       "    <tr>\n",
       "      <th>315758</th>\n",
       "      <td>25/4-5</td>\n",
       "      <td>1825.646805</td>\n",
       "      <td>454469.53125</td>\n",
       "      <td>6603730.0</td>\n",
       "      <td>-1800.346924</td>\n",
       "      <td>HORDALAND GP.</td>\n",
       "      <td>Grid Mb.</td>\n",
       "      <td>17.995275</td>\n",
       "      <td>NaN</td>\n",
       "      <td>0.754882</td>\n",
       "      <td>...</td>\n",
       "      <td>NaN</td>\n",
       "      <td>NaN</td>\n",
       "      <td>0.495276</td>\n",
       "      <td>0.018995</td>\n",
       "      <td>NaN</td>\n",
       "      <td>NaN</td>\n",
       "      <td>NaN</td>\n",
       "      <td>NaN</td>\n",
       "      <td>65000</td>\n",
       "      <td>1.0</td>\n",
       "    </tr>\n",
       "    <tr>\n",
       "      <th>798844</th>\n",
       "      <td>34/10-35</td>\n",
       "      <td>2272.791000</td>\n",
       "      <td>463384.43750</td>\n",
       "      <td>6771049.0</td>\n",
       "      <td>-2249.611572</td>\n",
       "      <td>SHETLAND GP.</td>\n",
       "      <td>Vaale Fm.</td>\n",
       "      <td>21.020674</td>\n",
       "      <td>NaN</td>\n",
       "      <td>1.223856</td>\n",
       "      <td>...</td>\n",
       "      <td>NaN</td>\n",
       "      <td>NaN</td>\n",
       "      <td>NaN</td>\n",
       "      <td>0.106082</td>\n",
       "      <td>NaN</td>\n",
       "      <td>NaN</td>\n",
       "      <td>NaN</td>\n",
       "      <td>NaN</td>\n",
       "      <td>65030</td>\n",
       "      <td>1.0</td>\n",
       "    </tr>\n",
       "    <tr>\n",
       "      <th>417552</th>\n",
       "      <td>25/8-5 S</td>\n",
       "      <td>2490.934400</td>\n",
       "      <td>464010.43750</td>\n",
       "      <td>6590901.0</td>\n",
       "      <td>-2341.356445</td>\n",
       "      <td>ROGALAND GP.</td>\n",
       "      <td>Lista Fm.</td>\n",
       "      <td>10.545247</td>\n",
       "      <td>1.418912</td>\n",
       "      <td>1.327446</td>\n",
       "      <td>...</td>\n",
       "      <td>2.945843</td>\n",
       "      <td>NaN</td>\n",
       "      <td>2.045248</td>\n",
       "      <td>0.007004</td>\n",
       "      <td>1.222229</td>\n",
       "      <td>NaN</td>\n",
       "      <td>NaN</td>\n",
       "      <td>1.120564</td>\n",
       "      <td>65000</td>\n",
       "      <td>1.0</td>\n",
       "    </tr>\n",
       "  </tbody>\n",
       "</table>\n",
       "<p>10 rows × 29 columns</p>\n",
       "</div>"
      ],
      "text/plain": [
       "             WELL     DEPTH_MD         X_LOC      Y_LOC        Z_LOC  \\\n",
       "372313     25/6-2  2269.352000  489836.28125  6602686.5 -2241.471680   \n",
       "1153676     7/1-1   554.104800  450396.56250  6406647.5  -520.102173   \n",
       "462810     26/4-1  2923.952200  501132.25000  6608171.5 -2900.683105   \n",
       "777414   34/10-21  2888.490403  454130.84375  6777267.0 -2859.038330   \n",
       "888544   34/5-1 A  3797.177992  479081.75000  6844708.0 -3231.346191   \n",
       "56869    16/1-6 A  1449.275735  459499.12500  6539472.5 -1410.602783   \n",
       "901079    34/7-20  1531.022000  448295.62500  6812831.0 -1504.985718   \n",
       "315758     25/4-5  1825.646805  454469.53125  6603730.0 -1800.346924   \n",
       "798844   34/10-35  2272.791000  463384.43750  6771049.0 -2249.611572   \n",
       "417552   25/8-5 S  2490.934400  464010.43750  6590901.0 -2341.356445   \n",
       "\n",
       "                    GROUP   FORMATION       CALI      RSHA      RMED  ...  \\\n",
       "372313   CROMER KNOLL GP.    Mime Fm.  12.581059  3.054129  2.510636  ...   \n",
       "1153676      NORDLAND GP.         NaN  18.069183  1.307377  1.309063  ...   \n",
       "462810         DUNLIN GP.   Drake Fm.   9.095864  4.777131  8.669496  ...   \n",
       "777414       SHETLAND GP.   Kyrre Fm.  13.344760  0.893483  1.352168  ...   \n",
       "888544       SHETLAND GP.   Kyrre Fm.  12.050184       NaN  1.600577  ...   \n",
       "56869       HORDALAND GP.   Skade Fm.   9.126155       NaN  0.648945  ...   \n",
       "901079      HORDALAND GP.  Utsira Fm.  17.890642  0.773303  0.564566  ...   \n",
       "315758      HORDALAND GP.    Grid Mb.  17.995275       NaN  0.754882  ...   \n",
       "798844       SHETLAND GP.   Vaale Fm.  21.020674       NaN  1.223856  ...   \n",
       "417552       ROGALAND GP.   Lista Fm.  10.545247  1.418912  1.327446  ...   \n",
       "\n",
       "                 ROP        DTS      DCAL      DRHO  MUDWEIGHT      RMIC  \\\n",
       "372313   5818.612793        NaN       NaN  0.038712   0.143792  2.756711   \n",
       "1153676     0.224774        NaN  0.569183       NaN   1.054472       NaN   \n",
       "462810      5.416234        NaN  0.595864  0.017973   0.143792       NaN   \n",
       "777414           NaN        NaN       NaN  0.010415        NaN       NaN   \n",
       "888544     35.602058  196.17395       NaN -0.008531        NaN       NaN   \n",
       "56869      24.565605        NaN       NaN       NaN   0.173748       NaN   \n",
       "901079           NaN        NaN       NaN -0.004461        NaN       NaN   \n",
       "315758           NaN        NaN  0.495276  0.018995        NaN       NaN   \n",
       "798844           NaN        NaN       NaN  0.106082        NaN       NaN   \n",
       "417552      2.945843        NaN  2.045248  0.007004   1.222229       NaN   \n",
       "\n",
       "             ROPA       RXO  FORCE_2020_LITHOFACIES_LITHOLOGY  \\\n",
       "372313        NaN  1.715284                             80000   \n",
       "1153676       NaN       NaN                             65000   \n",
       "462810        NaN       NaN                             65000   \n",
       "777414        NaN  0.987641                             65000   \n",
       "888544   25.36585       NaN                             65000   \n",
       "56869         NaN       NaN                             65000   \n",
       "901079        NaN       NaN                             65000   \n",
       "315758        NaN       NaN                             65000   \n",
       "798844        NaN       NaN                             65030   \n",
       "417552        NaN  1.120564                             65000   \n",
       "\n",
       "         FORCE_2020_LITHOFACIES_CONFIDENCE  \n",
       "372313                                 2.0  \n",
       "1153676                                1.0  \n",
       "462810                                 1.0  \n",
       "777414                                 1.0  \n",
       "888544                                 1.0  \n",
       "56869                                  1.0  \n",
       "901079                                 1.0  \n",
       "315758                                 1.0  \n",
       "798844                                 1.0  \n",
       "417552                                 1.0  \n",
       "\n",
       "[10 rows x 29 columns]"
      ]
     },
     "execution_count": 3,
     "metadata": {},
     "output_type": "execute_result"
    }
   ],
   "source": [
    "data.sample(10)"
   ]
  },
  {
   "cell_type": "code",
   "execution_count": 4,
   "metadata": {},
   "outputs": [
    {
     "data": {
      "text/plain": [
       "(1170511, 29)"
      ]
     },
     "execution_count": 4,
     "metadata": {},
     "output_type": "execute_result"
    }
   ],
   "source": [
    "data.shape"
   ]
  },
  {
   "cell_type": "code",
   "execution_count": 5,
   "metadata": {},
   "outputs": [
    {
     "data": {
      "text/plain": [
       "Index(['WELL', 'DEPTH_MD', 'X_LOC', 'Y_LOC', 'Z_LOC', 'GROUP', 'FORMATION',\n",
       "       'CALI', 'RSHA', 'RMED', 'RDEP', 'RHOB', 'GR', 'SGR', 'NPHI', 'PEF',\n",
       "       'DTC', 'SP', 'BS', 'ROP', 'DTS', 'DCAL', 'DRHO', 'MUDWEIGHT', 'RMIC',\n",
       "       'ROPA', 'RXO', 'FORCE_2020_LITHOFACIES_LITHOLOGY',\n",
       "       'FORCE_2020_LITHOFACIES_CONFIDENCE'],\n",
       "      dtype='object')"
      ]
     },
     "execution_count": 5,
     "metadata": {},
     "output_type": "execute_result"
    }
   ],
   "source": [
    "data.columns"
   ]
  },
  {
   "cell_type": "markdown",
   "metadata": {},
   "source": [
    "### Inspecting available logs and interpretations"
   ]
  },
  {
   "cell_type": "markdown",
   "metadata": {},
   "source": [
    "The data contains the metadata columns\n",
    "* WELL: well name\n",
    "* DEPTH_MD: measured depth\n",
    "* X_LOC: UTM X coordinate \n",
    "* Y_LOC: UTM Y coordinate\n",
    "* Z_LOC: DEPTH\n",
    "* GROUP: NPD lithostratigraphy group\n",
    "* FORMATION: NPD lithostratgraphy formation\n",
    "\n",
    "The data contains the well log curves. For example the following:\n",
    "* BS: Bit Size\n",
    "* CALI: Caliper\n",
    "* RDEP: Deep Resistivity\n",
    "* RHOB: Bulk Density\n",
    "* GR: Raw gamma data\n",
    "* SGR: Spectral Gamma Ray\n",
    "* RMED: Medium Resistivity\n",
    "* ROP: Rate of Penetration\n",
    "* NPHI: Neutron Porosity\n",
    "* PEF: Photoelectric Absorption Factor\n",
    "* RSHA: Shallow Resistivity\n",
    "* DTS: Sonic (Sheer Slowness)\n",
    "* DTC: Sonic (Compressional Slowness)\n",
    "\n",
    "See contest page for full list.\n",
    "\n",
    "as well as the interpretation\n",
    "\n",
    "* FORCE_2020_LITHOFACIES_LITHOLOGY: lithology class label\n",
    "* FORCE_2020_LITHOFACIES_CONFIDENCE: confidence in lithology interpretation (1: high, 2: medium, 3: low)"
   ]
  },
  {
   "cell_type": "markdown",
   "metadata": {},
   "source": [
    "There is a total of 83 wells in the training dataset. The `WELL` column is included so the data can be separated per well. This will be necessary for any \"windowed\" approaches where we use non-local information in the ML features. "
   ]
  },
  {
   "cell_type": "code",
   "execution_count": 6,
   "metadata": {
    "scrolled": true
   },
   "outputs": [],
   "source": [
    "wells = data['WELL'].unique()"
   ]
  },
  {
   "cell_type": "code",
   "execution_count": 7,
   "metadata": {},
   "outputs": [
    {
     "data": {
      "text/plain": [
       "array(['15/9-13', '15/9-15', '15/9-17', '16/1-2', '16/1-6 A', '16/10-1',\n",
       "       '16/10-2', '16/10-3', '16/10-5', '16/11-1 ST3', '16/2-11 A',\n",
       "       '16/2-16', '16/2-6', '16/4-1', '16/5-3', '16/7-4', '16/7-5',\n",
       "       '16/8-1', '17/11-1', '25/11-15', '25/11-19 S', '25/11-5',\n",
       "       '25/2-13 T4', '25/2-14', '25/2-7', '25/3-1', '25/4-5', '25/5-1',\n",
       "       '25/5-4', '25/6-1', '25/6-2', '25/6-3', '25/7-2', '25/8-5 S',\n",
       "       '25/8-7', '25/9-1', '26/4-1', '29/6-1', '30/3-3', '30/3-5 S',\n",
       "       '30/6-5', '31/2-1', '31/2-19 S', '31/2-7', '31/2-8', '31/2-9',\n",
       "       '31/3-1', '31/3-2', '31/3-3', '31/3-4', '31/4-10', '31/4-5',\n",
       "       '31/5-4 S', '31/6-5', '31/6-8', '32/2-1', '33/5-2', '33/6-3 S',\n",
       "       '33/9-1', '33/9-17', '34/10-19', '34/10-21', '34/10-33',\n",
       "       '34/10-35', '34/11-1', '34/11-2 S', '34/12-1', '34/2-4',\n",
       "       '34/3-1 A', '34/4-10 R', '34/5-1 A', '34/5-1 S', '34/7-13',\n",
       "       '34/7-20', '34/7-21', '34/8-1', '34/8-3', '34/8-7 R', '35/11-1',\n",
       "       '35/11-10', '35/11-11', '35/11-12', '35/11-13', '35/11-15 S',\n",
       "       '35/11-6', '35/11-7', '35/12-1', '35/3-7 S', '35/4-1', '35/8-4',\n",
       "       '35/8-6 S', '35/9-10 S', '35/9-2', '35/9-5', '35/9-6 S', '36/7-3',\n",
       "       '7/1-1', '7/1-2 S'], dtype=object)"
      ]
     },
     "execution_count": 7,
     "metadata": {},
     "output_type": "execute_result"
    }
   ],
   "source": [
    "wells"
   ]
  },
  {
   "cell_type": "markdown",
   "metadata": {},
   "source": [
    "### The LITHOLOGY column"
   ]
  },
  {
   "cell_type": "markdown",
   "metadata": {},
   "source": [
    "The LITHOLOGY column contains the interpretation. Each number corresponds to a lithology class, given by the following list:"
   ]
  },
  {
   "cell_type": "code",
   "execution_count": 10,
   "metadata": {},
   "outputs": [],
   "source": [
    "lithology_keys = {30000: 'Sandstone',\n",
    "                 65030: 'Sandstone/Shale',\n",
    "                 65000: 'Shale',\n",
    "                 80000: 'Marl',\n",
    "                 74000: 'Dolomite',\n",
    "                 70000: 'Limestone',\n",
    "                 70032: 'Chalk',\n",
    "                 88000: 'Halite',\n",
    "                 86000: 'Anhydrite',\n",
    "                 99000: 'Tuff',\n",
    "                 90000: 'Coal',\n",
    "                 93000: 'Basement'}"
   ]
  },
  {
   "cell_type": "code",
   "execution_count": 11,
   "metadata": {},
   "outputs": [
    {
     "data": {
      "text/plain": [
       "array([65000, 30000, 65030, 70000, 99000, 80000, 86000, 74000, 70032,\n",
       "       90000, 88000, 93000], dtype=int64)"
      ]
     },
     "execution_count": 11,
     "metadata": {},
     "output_type": "execute_result"
    }
   ],
   "source": [
    "data['FORCE_2020_LITHOFACIES_LITHOLOGY'].unique()"
   ]
  },
  {
   "cell_type": "markdown",
   "metadata": {},
   "source": [
    "Lithologies are not equally likely. This is reflected in this dataset."
   ]
  },
  {
   "cell_type": "code",
   "execution_count": 12,
   "metadata": {},
   "outputs": [
    {
     "data": {
      "text/plain": [
       "Text(0, 0.5, 'Lithology presence (\\\\%)')"
      ]
     },
     "execution_count": 12,
     "metadata": {},
     "output_type": "execute_result"
    },
    {
     "data": {
      "image/png": "[encoded data removed]",
      "text/plain": [
       "<Figure size 1008x504 with 1 Axes>"
      ]
     },
     "metadata": {
      "needs_background": "light"
     },
     "output_type": "display_data"
    }
   ],
   "source": [
    "counts = data['FORCE_2020_LITHOFACIES_LITHOLOGY'].value_counts()\n",
    "names = []\n",
    "percentage = []\n",
    "N = data['FORCE_2020_LITHOFACIES_LITHOLOGY'].shape[0]\n",
    "for item in counts.iteritems():\n",
    "    names.append(lithology_keys[item[0]])\n",
    "    percentage.append(float(item[1])/N*100)\n",
    "fig, ax = plt.subplots(1, 1, figsize=(14, 7))\n",
    "ax.bar(x=np.arange(len(names)), height=percentage)\n",
    "ax.set_xticklabels(names, rotation=45)\n",
    "ax.set_xticks(np.arange(len(names)))\n",
    "ax.set_ylabel('Lithology presence (\\%)')"
   ]
  },
  {
   "cell_type": "markdown",
   "metadata": {},
   "source": [
    "### Missing logs"
   ]
  },
  {
   "cell_type": "markdown",
   "metadata": {},
   "source": [
    "**Notice that some of the curves are NaN. This is an imporant aspect of this dataset and of this competition.** The only log columns that are **guaranteed** to be present are WELL, DEPT, and GR. All other logs can (and will) be missing from some parts of the dataset."
   ]
  },
  {
   "cell_type": "code",
   "execution_count": 13,
   "metadata": {},
   "outputs": [
    {
     "data": {
      "text/plain": [
       "WELL                                 False\n",
       "DEPTH_MD                             False\n",
       "X_LOC                                 True\n",
       "Y_LOC                                 True\n",
       "Z_LOC                                 True\n",
       "GROUP                                 True\n",
       "FORMATION                             True\n",
       "CALI                                  True\n",
       "RSHA                                  True\n",
       "RMED                                  True\n",
       "RDEP                                  True\n",
       "RHOB                                  True\n",
       "GR                                   False\n",
       "SGR                                   True\n",
       "NPHI                                  True\n",
       "PEF                                   True\n",
       "DTC                                   True\n",
       "SP                                    True\n",
       "BS                                    True\n",
       "ROP                                   True\n",
       "DTS                                   True\n",
       "DCAL                                  True\n",
       "DRHO                                  True\n",
       "MUDWEIGHT                             True\n",
       "RMIC                                  True\n",
       "ROPA                                  True\n",
       "RXO                                   True\n",
       "FORCE_2020_LITHOFACIES_LITHOLOGY     False\n",
       "FORCE_2020_LITHOFACIES_CONFIDENCE     True\n",
       "dtype: bool"
      ]
     },
     "execution_count": 13,
     "metadata": {},
     "output_type": "execute_result"
    }
   ],
   "source": [
    "data.isna().any()"
   ]
  },
  {
   "cell_type": "code",
   "execution_count": 14,
   "metadata": {
    "scrolled": true
   },
   "outputs": [
    {
     "data": {
      "text/plain": [
       "WELL                                       0\n",
       "DEPTH_MD                                   0\n",
       "X_LOC                                  10775\n",
       "Y_LOC                                  10775\n",
       "Z_LOC                                  10775\n",
       "GROUP                                   1278\n",
       "FORMATION                             136994\n",
       "CALI                                   87877\n",
       "RSHA                                  539861\n",
       "RMED                                   38993\n",
       "RDEP                                   11015\n",
       "RHOB                                  161269\n",
       "GR                                         0\n",
       "SGR                                  1101158\n",
       "NPHI                                  405102\n",
       "PEF                                   498819\n",
       "DTC                                    80863\n",
       "SP                                    306264\n",
       "BS                                    487854\n",
       "ROP                                   635440\n",
       "DTS                                   995898\n",
       "DCAL                                  871678\n",
       "DRHO                                  182654\n",
       "MUDWEIGHT                             854360\n",
       "RMIC                                  994351\n",
       "ROPA                                  978186\n",
       "RXO                                   843084\n",
       "FORCE_2020_LITHOFACIES_LITHOLOGY           0\n",
       "FORCE_2020_LITHOFACIES_CONFIDENCE        179\n",
       "dtype: int64"
      ]
     },
     "execution_count": 14,
     "metadata": {},
     "output_type": "execute_result"
    }
   ],
   "source": [
    "data.isna().sum()"
   ]
  },
  {
   "cell_type": "markdown",
   "metadata": {},
   "source": [
    "The following plot shows how large a percentage of training data wells contain at least some depth interval with the given logs. As you can see a couple of logs like RT and DTS are present in less than half of the training wells. **Remember, the test data will have a similar distribution of available logs**"
   ]
  },
  {
   "cell_type": "code",
   "execution_count": 15,
   "metadata": {},
   "outputs": [
    {
     "data": {
      "text/plain": [
       "Text(0, 0.5, 'Well presence (\\\\%)')"
      ]
     },
     "execution_count": 15,
     "metadata": {},
     "output_type": "execute_result"
    },
    {
     "data": {
      "image/png": "[encoded data removed]",
      "text/plain": [
       "<Figure size 1008x504 with 1 Axes>"
      ]
     },
     "metadata": {
      "needs_background": "light"
     },
     "output_type": "display_data"
    }
   ],
   "source": [
    "occurences = np.zeros(25)\n",
    "for well in data['WELL'].unique():\n",
    "    occurences += data[data['WELL'] == well].isna().all().astype(int).values[2:-2]\n",
    "fig, ax = plt.subplots(1, 1, figsize=(14, 7))\n",
    "ax.bar(x=np.arange(occurences.shape[0]), height=(data.WELL.unique().shape[0]-occurences)/data.WELL.unique().shape[0]*100.0)\n",
    "ax.set_xticklabels(data.columns[2:-2], rotation=45)\n",
    "ax.set_xticks(np.arange(occurences.shape[0]))\n",
    "ax.set_ylabel('Well presence (\\%)')"
   ]
  },
  {
   "cell_type": "code",
   "execution_count": 16,
   "metadata": {},
   "outputs": [
    {
     "data": {
      "text/plain": [
       "98"
      ]
     },
     "execution_count": 16,
     "metadata": {},
     "output_type": "execute_result"
    }
   ],
   "source": [
    "data.WELL.unique().shape[0]"
   ]
  },
  {
   "cell_type": "code",
   "execution_count": 17,
   "metadata": {},
   "outputs": [
    {
     "data": {
      "text/plain": [
       "array(['15/9-13', '15/9-15', '15/9-17', '16/1-2', '16/1-6 A', '16/10-1',\n",
       "       '16/10-2', '16/10-3', '16/10-5', '16/11-1 ST3', '16/2-11 A',\n",
       "       '16/2-16', '16/2-6', '16/4-1', '16/5-3', '16/7-4', '16/7-5',\n",
       "       '16/8-1', '17/11-1', '25/11-15', '25/11-19 S', '25/11-5',\n",
       "       '25/2-13 T4', '25/2-14', '25/2-7', '25/3-1', '25/4-5', '25/5-1',\n",
       "       '25/5-4', '25/6-1', '25/6-2', '25/6-3', '25/7-2', '25/8-5 S',\n",
       "       '25/8-7', '25/9-1', '26/4-1', '29/6-1', '30/3-3', '30/3-5 S',\n",
       "       '30/6-5', '31/2-1', '31/2-19 S', '31/2-7', '31/2-8', '31/2-9',\n",
       "       '31/3-1', '31/3-2', '31/3-3', '31/3-4', '31/4-10', '31/4-5',\n",
       "       '31/5-4 S', '31/6-5', '31/6-8', '32/2-1', '33/5-2', '33/6-3 S',\n",
       "       '33/9-1', '33/9-17', '34/10-19', '34/10-21', '34/10-33',\n",
       "       '34/10-35', '34/11-1', '34/11-2 S', '34/12-1', '34/2-4',\n",
       "       '34/3-1 A', '34/4-10 R', '34/5-1 A', '34/5-1 S', '34/7-13',\n",
       "       '34/7-20', '34/7-21', '34/8-1', '34/8-3', '34/8-7 R', '35/11-1',\n",
       "       '35/11-10', '35/11-11', '35/11-12', '35/11-13', '35/11-15 S',\n",
       "       '35/11-6', '35/11-7', '35/12-1', '35/3-7 S', '35/4-1', '35/8-4',\n",
       "       '35/8-6 S', '35/9-10 S', '35/9-2', '35/9-5', '35/9-6 S', '36/7-3',\n",
       "       '7/1-1', '7/1-2 S'], dtype=object)"
      ]
     },
     "execution_count": 17,
     "metadata": {},
     "output_type": "execute_result"
    }
   ],
   "source": [
    "data['WELL'].unique()"
   ]
  },
  {
   "cell_type": "code",
   "execution_count": 18,
   "metadata": {},
   "outputs": [
    {
     "data": {
      "text/plain": [
       "array([0, 0, 0, 0, 0, 0, 0, 0, 0, 0, 0, 1, 0, 0, 0, 0, 1, 0, 1, 1, 0, 0,\n",
       "       1, 1, 0])"
      ]
     },
     "execution_count": 18,
     "metadata": {},
     "output_type": "execute_result"
    }
   ],
   "source": [
    "data[data['WELL'] == '15/9-13'].isna().all().astype(int).values[2:-2]"
   ]
  },
  {
   "cell_type": "code",
   "execution_count": 19,
   "metadata": {},
   "outputs": [],
   "source": [
    "test = data[data['WELL'] == '15/9-13'].isna().all()"
   ]
  },
  {
   "cell_type": "code",
   "execution_count": 20,
   "metadata": {},
   "outputs": [
    {
     "data": {
      "text/plain": [
       "WELL                                 False\n",
       "DEPTH_MD                             False\n",
       "X_LOC                                False\n",
       "Y_LOC                                False\n",
       "Z_LOC                                False\n",
       "GROUP                                False\n",
       "FORMATION                            False\n",
       "CALI                                 False\n",
       "RSHA                                 False\n",
       "RMED                                 False\n",
       "RDEP                                 False\n",
       "RHOB                                 False\n",
       "GR                                   False\n",
       "SGR                                   True\n",
       "NPHI                                 False\n",
       "PEF                                  False\n",
       "DTC                                  False\n",
       "SP                                   False\n",
       "BS                                    True\n",
       "ROP                                  False\n",
       "DTS                                   True\n",
       "DCAL                                  True\n",
       "DRHO                                 False\n",
       "MUDWEIGHT                            False\n",
       "RMIC                                  True\n",
       "ROPA                                  True\n",
       "RXO                                  False\n",
       "FORCE_2020_LITHOFACIES_LITHOLOGY     False\n",
       "FORCE_2020_LITHOFACIES_CONFIDENCE    False\n",
       "dtype: bool"
      ]
     },
     "execution_count": 20,
     "metadata": {},
     "output_type": "execute_result"
    }
   ],
   "source": [
    "test"
   ]
  },
  {
   "cell_type": "code",
   "execution_count": 21,
   "metadata": {},
   "outputs": [],
   "source": [
    "test1 = data[data['WELL'] == '15/9-13'].isna().all().astype(int).values[2:-2]"
   ]
  },
  {
   "cell_type": "code",
   "execution_count": 22,
   "metadata": {},
   "outputs": [
    {
     "data": {
      "text/plain": [
       "(25,)"
      ]
     },
     "execution_count": 22,
     "metadata": {},
     "output_type": "execute_result"
    }
   ],
   "source": [
    "test1.shape"
   ]
  },
  {
   "cell_type": "markdown",
   "metadata": {},
   "source": [
    "#### Look at some log curves for a couple of wells"
   ]
  },
  {
   "cell_type": "code",
   "execution_count": 23,
   "metadata": {
    "scrolled": false
   },
   "outputs": [
    {
     "data": {
      "text/plain": [
       "(3272.0240000000003, 494.528)"
      ]
     },
     "execution_count": 23,
     "metadata": {},
     "output_type": "execute_result"
    },
    {
     "data": {
      "image/png": "[encoded data removed]",
      "text/plain": [
       "<Figure size 1008x720 with 20 Axes>"
      ]
     },
     "metadata": {
      "needs_background": "light"
     },
     "output_type": "display_data"
    }
   ],
   "source": [
    "well_data = data[data['WELL'] == wells[0]]\n",
    "fig, axs = plt.subplots(1, len(well_data.columns)-9, figsize=(14, 10), sharey=True)\n",
    "for ic, col in enumerate(set(well_data.columns)-set(['DEPTH_MD', 'FORCE_2020_LITHOFACIES_LITHOLOGY',\n",
    "                                                     'FORCE_2020_LITHOFACIES_CONFIDENCE', 'WELL', 'GROUP', 'FORMATION',\n",
    "                                                    'X_LOC', 'Y_LOC', 'Z_LOC'])):\n",
    "    axs[ic].plot(well_data[col], well_data['DEPTH_MD'])\n",
    "    axs[ic].set_xlabel(col)\n",
    "axs[0].set_ylim(well_data['DEPTH_MD'].values[-1], well_data['DEPTH_MD'].values[0])"
   ]
  },
  {
   "cell_type": "code",
   "execution_count": 24,
   "metadata": {},
   "outputs": [
    {
     "data": {
      "text/plain": [
       "(4422.0172, 2484.1692)"
      ]
     },
     "execution_count": 24,
     "metadata": {},
     "output_type": "execute_result"
    },
    {
     "data": {
      "image/png": "[encoded data removed]",
      "text/plain": [
       "<Figure size 1008x720 with 20 Axes>"
      ]
     },
     "metadata": {
      "needs_background": "light"
     },
     "output_type": "display_data"
    }
   ],
   "source": [
    "well_data = data[data['WELL'] == wells[57]]\n",
    "fig, axs = plt.subplots(1, len(well_data.columns)-9, figsize=(14, 10), sharey=True)\n",
    "for ic, col in enumerate(set(well_data.columns)-set(['DEPTH_MD', 'FORCE_2020_LITHOFACIES_LITHOLOGY',\n",
    "                                                     'FORCE_2020_LITHOFACIES_CONFIDENCE', 'WELL', 'GROUP', 'FORMATION',\n",
    "                                                    'X_LOC', 'Y_LOC', 'Z_LOC'])):\n",
    "    axs[ic].plot(well_data[col], well_data['DEPTH_MD'])\n",
    "    axs[ic].set_xlabel(col)\n",
    "axs[0].set_ylim(well_data['DEPTH_MD'].values[-1], well_data['DEPTH_MD'].values[0])"
   ]
  },
  {
   "cell_type": "markdown",
   "metadata": {},
   "source": [
    "### Preparing data for training"
   ]
  },
  {
   "cell_type": "code",
   "execution_count": 25,
   "metadata": {},
   "outputs": [],
   "source": [
    "X = data.drop(columns=['WELL', 'FORCE_2020_LITHOFACIES_LITHOLOGY', 'FORCE_2020_LITHOFACIES_CONFIDENCE'])"
   ]
  },
  {
   "cell_type": "markdown",
   "metadata": {},
   "source": [
    "##### As a simple approach we replace nan with zero and hope for the best"
   ]
  },
  {
   "cell_type": "code",
   "execution_count": 26,
   "metadata": {},
   "outputs": [],
   "source": [
    "X.fillna(0, inplace=True)"
   ]
  },
  {
   "cell_type": "markdown",
   "metadata": {},
   "source": [
    "#### We should convert lithology labels to numbers 0-11 before training"
   ]
  },
  {
   "cell_type": "code",
   "execution_count": 27,
   "metadata": {},
   "outputs": [],
   "source": [
    "y = data['FORCE_2020_LITHOFACIES_LITHOLOGY']"
   ]
  },
  {
   "cell_type": "code",
   "execution_count": 28,
   "metadata": {},
   "outputs": [],
   "source": [
    "lithology_numbers = {30000: 0,\n",
    "                 65030: 1,\n",
    "                 65000: 2,\n",
    "                 80000: 3,\n",
    "                 74000: 4,\n",
    "                 70000: 5,\n",
    "                 70032: 6,\n",
    "                 88000: 7,\n",
    "                 86000: 8,\n",
    "                 99000: 9,\n",
    "                 90000: 10,\n",
    "                 93000: 11}"
   ]
  },
  {
   "cell_type": "code",
   "execution_count": 29,
   "metadata": {},
   "outputs": [],
   "source": [
    "y = y.map(lithology_numbers)"
   ]
  },
  {
   "cell_type": "markdown",
   "metadata": {},
   "source": [
    "##### Lithologies are not equally likely. Probably smart to take this into account by computing class weights"
   ]
  },
  {
   "cell_type": "code",
   "execution_count": 30,
   "metadata": {},
   "outputs": [
    {
     "data": {
      "text/plain": [
       "array([168937, 150455, 720803,  33329,   1688,  56320,  10513,   8213,\n",
       "         1085,  15245,   3820,    103], dtype=int64)"
      ]
     },
     "execution_count": 30,
     "metadata": {},
     "output_type": "execute_result"
    }
   ],
   "source": [
    "np.bincount(y)"
   ]
  },
  {
   "cell_type": "markdown",
   "metadata": {},
   "source": [
    "##### Shuffle the data"
   ]
  },
  {
   "cell_type": "code",
   "execution_count": 31,
   "metadata": {},
   "outputs": [],
   "source": [
    "X, y = shuffle(X, y, random_state=42)"
   ]
  },
  {
   "cell_type": "code",
   "execution_count": 32,
   "metadata": {
    "scrolled": false
   },
   "outputs": [
    {
     "data": {
      "text/html": [
       "<div>\n",
       "<style scoped>\n",
       "    .dataframe tbody tr th:only-of-type {\n",
       "        vertical-align: middle;\n",
       "    }\n",
       "\n",
       "    .dataframe tbody tr th {\n",
       "        vertical-align: top;\n",
       "    }\n",
       "\n",
       "    .dataframe thead th {\n",
       "        text-align: right;\n",
       "    }\n",
       "</style>\n",
       "<table border=\"1\" class=\"dataframe\">\n",
       "  <thead>\n",
       "    <tr style=\"text-align: right;\">\n",
       "      <th></th>\n",
       "      <th>DEPTH_MD</th>\n",
       "      <th>X_LOC</th>\n",
       "      <th>Y_LOC</th>\n",
       "      <th>Z_LOC</th>\n",
       "      <th>GROUP</th>\n",
       "      <th>FORMATION</th>\n",
       "      <th>CALI</th>\n",
       "      <th>RSHA</th>\n",
       "      <th>RMED</th>\n",
       "      <th>RDEP</th>\n",
       "      <th>...</th>\n",
       "      <th>SP</th>\n",
       "      <th>BS</th>\n",
       "      <th>ROP</th>\n",
       "      <th>DTS</th>\n",
       "      <th>DCAL</th>\n",
       "      <th>DRHO</th>\n",
       "      <th>MUDWEIGHT</th>\n",
       "      <th>RMIC</th>\n",
       "      <th>ROPA</th>\n",
       "      <th>RXO</th>\n",
       "    </tr>\n",
       "  </thead>\n",
       "  <tbody>\n",
       "    <tr>\n",
       "      <th>30423</th>\n",
       "      <td>2343.304000</td>\n",
       "      <td>436806.46875</td>\n",
       "      <td>6463010.5</td>\n",
       "      <td>-2318.007324</td>\n",
       "      <td>ROGALAND GP.</td>\n",
       "      <td>Lista Fm.</td>\n",
       "      <td>14.882113</td>\n",
       "      <td>0.771240</td>\n",
       "      <td>0.771240</td>\n",
       "      <td>0.662699</td>\n",
       "      <td>...</td>\n",
       "      <td>88.208725</td>\n",
       "      <td>12.250001</td>\n",
       "      <td>12.761565</td>\n",
       "      <td>0.000000</td>\n",
       "      <td>2.632109</td>\n",
       "      <td>0.115312</td>\n",
       "      <td>0.143792</td>\n",
       "      <td>0.000000</td>\n",
       "      <td>0.000000</td>\n",
       "      <td>0.57085</td>\n",
       "    </tr>\n",
       "    <tr>\n",
       "      <th>1073159</th>\n",
       "      <td>3582.467851</td>\n",
       "      <td>543919.75000</td>\n",
       "      <td>6856653.5</td>\n",
       "      <td>-3477.858154</td>\n",
       "      <td>CROMER KNOLL GP.</td>\n",
       "      <td>Roedby Fm.</td>\n",
       "      <td>8.645628</td>\n",
       "      <td>0.000000</td>\n",
       "      <td>5.599961</td>\n",
       "      <td>4.988578</td>\n",
       "      <td>...</td>\n",
       "      <td>0.000000</td>\n",
       "      <td>8.500000</td>\n",
       "      <td>10.556081</td>\n",
       "      <td>150.206314</td>\n",
       "      <td>0.000000</td>\n",
       "      <td>-0.007215</td>\n",
       "      <td>0.000000</td>\n",
       "      <td>6.627153</td>\n",
       "      <td>10.410796</td>\n",
       "      <td>0.00000</td>\n",
       "    </tr>\n",
       "    <tr>\n",
       "      <th>436368</th>\n",
       "      <td>734.814000</td>\n",
       "      <td>483545.34375</td>\n",
       "      <td>6590313.0</td>\n",
       "      <td>-709.762207</td>\n",
       "      <td>NORDLAND GP.</td>\n",
       "      <td>Utsira Fm.</td>\n",
       "      <td>0.000000</td>\n",
       "      <td>0.000000</td>\n",
       "      <td>0.000000</td>\n",
       "      <td>1.000559</td>\n",
       "      <td>...</td>\n",
       "      <td>0.000000</td>\n",
       "      <td>17.500000</td>\n",
       "      <td>109.271744</td>\n",
       "      <td>0.000000</td>\n",
       "      <td>0.000000</td>\n",
       "      <td>0.000000</td>\n",
       "      <td>0.000000</td>\n",
       "      <td>0.000000</td>\n",
       "      <td>0.000000</td>\n",
       "      <td>0.00000</td>\n",
       "    </tr>\n",
       "    <tr>\n",
       "      <th>290688</th>\n",
       "      <td>1075.968000</td>\n",
       "      <td>487291.25000</td>\n",
       "      <td>6643945.0</td>\n",
       "      <td>-1053.937988</td>\n",
       "      <td>HORDALAND GP.</td>\n",
       "      <td>0</td>\n",
       "      <td>17.646826</td>\n",
       "      <td>0.000000</td>\n",
       "      <td>0.867609</td>\n",
       "      <td>1.231773</td>\n",
       "      <td>...</td>\n",
       "      <td>21.596836</td>\n",
       "      <td>17.500000</td>\n",
       "      <td>7.970956</td>\n",
       "      <td>0.000000</td>\n",
       "      <td>0.215513</td>\n",
       "      <td>0.051340</td>\n",
       "      <td>0.958611</td>\n",
       "      <td>0.000000</td>\n",
       "      <td>0.000000</td>\n",
       "      <td>0.00000</td>\n",
       "    </tr>\n",
       "    <tr>\n",
       "      <th>1118085</th>\n",
       "      <td>3580.061600</td>\n",
       "      <td>537897.75000</td>\n",
       "      <td>6791142.5</td>\n",
       "      <td>-3069.179688</td>\n",
       "      <td>BAAT GP.</td>\n",
       "      <td>Rannoch Fm.</td>\n",
       "      <td>8.572706</td>\n",
       "      <td>0.000000</td>\n",
       "      <td>7.634528</td>\n",
       "      <td>8.066478</td>\n",
       "      <td>...</td>\n",
       "      <td>0.000000</td>\n",
       "      <td>8.500000</td>\n",
       "      <td>31.773550</td>\n",
       "      <td>140.671463</td>\n",
       "      <td>0.000000</td>\n",
       "      <td>0.039784</td>\n",
       "      <td>0.000000</td>\n",
       "      <td>0.000000</td>\n",
       "      <td>0.000000</td>\n",
       "      <td>0.00000</td>\n",
       "    </tr>\n",
       "    <tr>\n",
       "      <th>...</th>\n",
       "      <td>...</td>\n",
       "      <td>...</td>\n",
       "      <td>...</td>\n",
       "      <td>...</td>\n",
       "      <td>...</td>\n",
       "      <td>...</td>\n",
       "      <td>...</td>\n",
       "      <td>...</td>\n",
       "      <td>...</td>\n",
       "      <td>...</td>\n",
       "      <td>...</td>\n",
       "      <td>...</td>\n",
       "      <td>...</td>\n",
       "      <td>...</td>\n",
       "      <td>...</td>\n",
       "      <td>...</td>\n",
       "      <td>...</td>\n",
       "      <td>...</td>\n",
       "      <td>...</td>\n",
       "      <td>...</td>\n",
       "      <td>...</td>\n",
       "    </tr>\n",
       "    <tr>\n",
       "      <th>110268</th>\n",
       "      <td>2619.545201</td>\n",
       "      <td>0.00000</td>\n",
       "      <td>0.0</td>\n",
       "      <td>0.000000</td>\n",
       "      <td>ZECHSTEIN GP.</td>\n",
       "      <td>Smith Bank Fm.</td>\n",
       "      <td>12.437759</td>\n",
       "      <td>0.000000</td>\n",
       "      <td>0.000000</td>\n",
       "      <td>0.000000</td>\n",
       "      <td>...</td>\n",
       "      <td>0.000000</td>\n",
       "      <td>12.250001</td>\n",
       "      <td>2.385924</td>\n",
       "      <td>0.000000</td>\n",
       "      <td>0.000000</td>\n",
       "      <td>0.000000</td>\n",
       "      <td>1.425934</td>\n",
       "      <td>0.000000</td>\n",
       "      <td>0.000000</td>\n",
       "      <td>0.00000</td>\n",
       "    </tr>\n",
       "    <tr>\n",
       "      <th>259178</th>\n",
       "      <td>3032.057901</td>\n",
       "      <td>476870.34375</td>\n",
       "      <td>6625402.0</td>\n",
       "      <td>-3008.017822</td>\n",
       "      <td>VIKING GP.</td>\n",
       "      <td>Draupne Fm.</td>\n",
       "      <td>12.151999</td>\n",
       "      <td>1.934554</td>\n",
       "      <td>1.315825</td>\n",
       "      <td>1.341654</td>\n",
       "      <td>...</td>\n",
       "      <td>58.382977</td>\n",
       "      <td>12.250001</td>\n",
       "      <td>0.000000</td>\n",
       "      <td>0.000000</td>\n",
       "      <td>-0.098000</td>\n",
       "      <td>0.037645</td>\n",
       "      <td>0.000000</td>\n",
       "      <td>0.000000</td>\n",
       "      <td>0.000000</td>\n",
       "      <td>0.00000</td>\n",
       "    </tr>\n",
       "    <tr>\n",
       "      <th>131932</th>\n",
       "      <td>2015.638396</td>\n",
       "      <td>476768.28125</td>\n",
       "      <td>6523588.5</td>\n",
       "      <td>-1989.272949</td>\n",
       "      <td>HEGRE GP.</td>\n",
       "      <td>Skagerrak Fm.</td>\n",
       "      <td>8.527798</td>\n",
       "      <td>0.000000</td>\n",
       "      <td>1.631037</td>\n",
       "      <td>1.619809</td>\n",
       "      <td>...</td>\n",
       "      <td>0.000000</td>\n",
       "      <td>8.500000</td>\n",
       "      <td>9.060954</td>\n",
       "      <td>172.162643</td>\n",
       "      <td>0.000000</td>\n",
       "      <td>-0.001382</td>\n",
       "      <td>0.000000</td>\n",
       "      <td>0.000000</td>\n",
       "      <td>0.000000</td>\n",
       "      <td>0.00000</td>\n",
       "    </tr>\n",
       "    <tr>\n",
       "      <th>671155</th>\n",
       "      <td>1424.414000</td>\n",
       "      <td>530753.68750</td>\n",
       "      <td>6732068.0</td>\n",
       "      <td>-1380.430908</td>\n",
       "      <td>ROGALAND GP.</td>\n",
       "      <td>Lista Fm.</td>\n",
       "      <td>0.000000</td>\n",
       "      <td>0.000000</td>\n",
       "      <td>0.000000</td>\n",
       "      <td>0.576554</td>\n",
       "      <td>...</td>\n",
       "      <td>0.000000</td>\n",
       "      <td>0.000000</td>\n",
       "      <td>0.000000</td>\n",
       "      <td>0.000000</td>\n",
       "      <td>0.000000</td>\n",
       "      <td>0.000000</td>\n",
       "      <td>0.000000</td>\n",
       "      <td>0.000000</td>\n",
       "      <td>0.000000</td>\n",
       "      <td>0.00000</td>\n",
       "    </tr>\n",
       "    <tr>\n",
       "      <th>121958</th>\n",
       "      <td>2177.355200</td>\n",
       "      <td>475597.31250</td>\n",
       "      <td>6519111.0</td>\n",
       "      <td>-1885.009888</td>\n",
       "      <td>CROMER KNOLL GP.</td>\n",
       "      <td>Aasgard Fm.</td>\n",
       "      <td>8.964350</td>\n",
       "      <td>0.000000</td>\n",
       "      <td>3.032099</td>\n",
       "      <td>2.983775</td>\n",
       "      <td>...</td>\n",
       "      <td>0.000000</td>\n",
       "      <td>8.500000</td>\n",
       "      <td>11.520622</td>\n",
       "      <td>192.304855</td>\n",
       "      <td>0.000000</td>\n",
       "      <td>-0.010653</td>\n",
       "      <td>0.000000</td>\n",
       "      <td>3.083766</td>\n",
       "      <td>5.067096</td>\n",
       "      <td>0.00000</td>\n",
       "    </tr>\n",
       "  </tbody>\n",
       "</table>\n",
       "<p>1170511 rows × 26 columns</p>\n",
       "</div>"
      ],
      "text/plain": [
       "            DEPTH_MD         X_LOC      Y_LOC        Z_LOC             GROUP  \\\n",
       "30423    2343.304000  436806.46875  6463010.5 -2318.007324      ROGALAND GP.   \n",
       "1073159  3582.467851  543919.75000  6856653.5 -3477.858154  CROMER KNOLL GP.   \n",
       "436368    734.814000  483545.34375  6590313.0  -709.762207      NORDLAND GP.   \n",
       "290688   1075.968000  487291.25000  6643945.0 -1053.937988     HORDALAND GP.   \n",
       "1118085  3580.061600  537897.75000  6791142.5 -3069.179688          BAAT GP.   \n",
       "...              ...           ...        ...          ...               ...   \n",
       "110268   2619.545201       0.00000        0.0     0.000000     ZECHSTEIN GP.   \n",
       "259178   3032.057901  476870.34375  6625402.0 -3008.017822        VIKING GP.   \n",
       "131932   2015.638396  476768.28125  6523588.5 -1989.272949         HEGRE GP.   \n",
       "671155   1424.414000  530753.68750  6732068.0 -1380.430908      ROGALAND GP.   \n",
       "121958   2177.355200  475597.31250  6519111.0 -1885.009888  CROMER KNOLL GP.   \n",
       "\n",
       "              FORMATION       CALI      RSHA      RMED      RDEP  ...  \\\n",
       "30423         Lista Fm.  14.882113  0.771240  0.771240  0.662699  ...   \n",
       "1073159      Roedby Fm.   8.645628  0.000000  5.599961  4.988578  ...   \n",
       "436368       Utsira Fm.   0.000000  0.000000  0.000000  1.000559  ...   \n",
       "290688                0  17.646826  0.000000  0.867609  1.231773  ...   \n",
       "1118085     Rannoch Fm.   8.572706  0.000000  7.634528  8.066478  ...   \n",
       "...                 ...        ...       ...       ...       ...  ...   \n",
       "110268   Smith Bank Fm.  12.437759  0.000000  0.000000  0.000000  ...   \n",
       "259178      Draupne Fm.  12.151999  1.934554  1.315825  1.341654  ...   \n",
       "131932    Skagerrak Fm.   8.527798  0.000000  1.631037  1.619809  ...   \n",
       "671155        Lista Fm.   0.000000  0.000000  0.000000  0.576554  ...   \n",
       "121958      Aasgard Fm.   8.964350  0.000000  3.032099  2.983775  ...   \n",
       "\n",
       "                SP         BS         ROP         DTS      DCAL      DRHO  \\\n",
       "30423    88.208725  12.250001   12.761565    0.000000  2.632109  0.115312   \n",
       "1073159   0.000000   8.500000   10.556081  150.206314  0.000000 -0.007215   \n",
       "436368    0.000000  17.500000  109.271744    0.000000  0.000000  0.000000   \n",
       "290688   21.596836  17.500000    7.970956    0.000000  0.215513  0.051340   \n",
       "1118085   0.000000   8.500000   31.773550  140.671463  0.000000  0.039784   \n",
       "...            ...        ...         ...         ...       ...       ...   \n",
       "110268    0.000000  12.250001    2.385924    0.000000  0.000000  0.000000   \n",
       "259178   58.382977  12.250001    0.000000    0.000000 -0.098000  0.037645   \n",
       "131932    0.000000   8.500000    9.060954  172.162643  0.000000 -0.001382   \n",
       "671155    0.000000   0.000000    0.000000    0.000000  0.000000  0.000000   \n",
       "121958    0.000000   8.500000   11.520622  192.304855  0.000000 -0.010653   \n",
       "\n",
       "         MUDWEIGHT      RMIC       ROPA      RXO  \n",
       "30423     0.143792  0.000000   0.000000  0.57085  \n",
       "1073159   0.000000  6.627153  10.410796  0.00000  \n",
       "436368    0.000000  0.000000   0.000000  0.00000  \n",
       "290688    0.958611  0.000000   0.000000  0.00000  \n",
       "1118085   0.000000  0.000000   0.000000  0.00000  \n",
       "...            ...       ...        ...      ...  \n",
       "110268    1.425934  0.000000   0.000000  0.00000  \n",
       "259178    0.000000  0.000000   0.000000  0.00000  \n",
       "131932    0.000000  0.000000   0.000000  0.00000  \n",
       "671155    0.000000  0.000000   0.000000  0.00000  \n",
       "121958    0.000000  3.083766   5.067096  0.00000  \n",
       "\n",
       "[1170511 rows x 26 columns]"
      ]
     },
     "execution_count": 32,
     "metadata": {},
     "output_type": "execute_result"
    }
   ],
   "source": [
    "X"
   ]
  },
  {
   "cell_type": "markdown",
   "metadata": {},
   "source": [
    "#### Select only the columns you want to use"
   ]
  },
  {
   "cell_type": "code",
   "execution_count": 33,
   "metadata": {},
   "outputs": [
    {
     "data": {
      "text/plain": [
       "Index(['DEPTH_MD', 'X_LOC', 'Y_LOC', 'Z_LOC', 'GROUP', 'FORMATION', 'CALI',\n",
       "       'RSHA', 'RMED', 'RDEP', 'RHOB', 'GR', 'SGR', 'NPHI', 'PEF', 'DTC', 'SP',\n",
       "       'BS', 'ROP', 'DTS', 'DCAL', 'DRHO', 'MUDWEIGHT', 'RMIC', 'ROPA', 'RXO'],\n",
       "      dtype='object')"
      ]
     },
     "execution_count": 33,
     "metadata": {},
     "output_type": "execute_result"
    }
   ],
   "source": [
    "X.columns"
   ]
  },
  {
   "cell_type": "code",
   "execution_count": 34,
   "metadata": {},
   "outputs": [],
   "source": [
    "X = X[['DEPTH_MD', 'CALI', 'RSHA', 'RMED', 'RDEP', 'RHOB', 'GR', 'NPHI', 'PEF', 'DTC', 'SP', 'BS']]"
   ]
  },
  {
   "cell_type": "markdown",
   "metadata": {},
   "source": [
    "##### Scale the features"
   ]
  },
  {
   "cell_type": "code",
   "execution_count": 35,
   "metadata": {},
   "outputs": [],
   "source": [
    "scaler = StandardScaler()"
   ]
  },
  {
   "cell_type": "code",
   "execution_count": 36,
   "metadata": {},
   "outputs": [
    {
     "data": {
      "text/plain": [
       "Index(['DEPTH_MD', 'CALI', 'RSHA', 'RMED', 'RDEP', 'RHOB', 'GR', 'NPHI', 'PEF',\n",
       "       'DTC', 'SP', 'BS'],\n",
       "      dtype='object')"
      ]
     },
     "execution_count": 36,
     "metadata": {},
     "output_type": "execute_result"
    }
   ],
   "source": [
    "X.columns"
   ]
  },
  {
   "cell_type": "code",
   "execution_count": 37,
   "metadata": {},
   "outputs": [],
   "source": [
    "X = scaler.fit_transform(X)"
   ]
  },
  {
   "cell_type": "markdown",
   "metadata": {},
   "source": [
    "##### Split into train and test data"
   ]
  },
  {
   "cell_type": "code",
   "execution_count": 38,
   "metadata": {},
   "outputs": [],
   "source": [
    "X_train, X_test, y_train, y_test = train_test_split(X, y, test_size=0.2, random_state=42)"
   ]
  },
  {
   "cell_type": "markdown",
   "metadata": {},
   "source": [
    "### Applying the custom scoring function"
   ]
  },
  {
   "cell_type": "markdown",
   "metadata": {},
   "source": [
    "Apart from the missing log curves, **one of the key challenges of this machine learning competition is that you are being scored using a custom scoring function**. \n",
    "\n",
    "A prediction is scored using the penalty function\n",
    "$$ S = - \\frac{1}{N}\\sum_{i=0}^N A_{ \\hat{y}_i y_i} $$\n",
    "where $N$ is the number of samples, $y_i$ is prediction for sample $i$, $\\hat{y}_i$ is the true target for sample $i$, and $A$ is the penalty matrix given by the following\n",
    "\n",
    "In short, the value of the matrix A at row i and column j is the **penalty** given by guessing lithology number i when the correct label is lithology numner j. Notice that the diagonal consists of zeros, no penalty is given for correct predictions."
   ]
  },
  {
   "cell_type": "code",
   "execution_count": 39,
   "metadata": {},
   "outputs": [],
   "source": [
    "A = np.load('penalty_matrix.npy')"
   ]
  },
  {
   "cell_type": "code",
   "execution_count": 40,
   "metadata": {},
   "outputs": [
    {
     "data": {
      "text/plain": [
       "array([[0.   , 2.   , 3.5  , 3.   , 3.75 , 3.5  , 3.5  , 4.   , 4.   ,\n",
       "        2.5  , 3.875, 3.25 ],\n",
       "       [2.   , 0.   , 2.375, 2.75 , 4.   , 3.75 , 3.75 , 3.875, 4.   ,\n",
       "        3.   , 3.75 , 3.   ],\n",
       "       [3.5  , 2.375, 0.   , 2.   , 3.5  , 3.5  , 3.75 , 4.   , 4.   ,\n",
       "        2.75 , 3.25 , 3.   ],\n",
       "       [3.   , 2.75 , 2.   , 0.   , 2.5  , 2.   , 2.25 , 4.   , 4.   ,\n",
       "        3.375, 3.75 , 3.25 ],\n",
       "       [3.75 , 4.   , 3.5  , 2.5  , 0.   , 2.625, 2.875, 3.75 , 3.25 ,\n",
       "        3.   , 4.   , 3.625],\n",
       "       [3.5  , 3.75 , 3.5  , 2.   , 2.625, 0.   , 1.375, 4.   , 3.75 ,\n",
       "        3.5  , 4.   , 3.625],\n",
       "       [3.5  , 3.75 , 3.75 , 2.25 , 2.875, 1.375, 0.   , 4.   , 3.75 ,\n",
       "        3.125, 4.   , 3.75 ],\n",
       "       [4.   , 3.875, 4.   , 4.   , 3.75 , 4.   , 4.   , 0.   , 2.75 ,\n",
       "        3.75 , 3.75 , 4.   ],\n",
       "       [4.   , 4.   , 4.   , 4.   , 3.25 , 3.75 , 3.75 , 2.75 , 0.   ,\n",
       "        4.   , 4.   , 3.875],\n",
       "       [2.5  , 3.   , 2.75 , 3.375, 3.   , 3.5  , 3.125, 3.75 , 4.   ,\n",
       "        0.   , 2.5  , 3.25 ],\n",
       "       [3.875, 3.75 , 3.25 , 3.75 , 4.   , 4.   , 4.   , 3.75 , 4.   ,\n",
       "        2.5  , 0.   , 4.   ],\n",
       "       [3.25 , 3.   , 3.   , 3.25 , 3.625, 3.625, 3.75 , 4.   , 3.875,\n",
       "        3.25 , 4.   , 0.   ]])"
      ]
     },
     "execution_count": 40,
     "metadata": {},
     "output_type": "execute_result"
    }
   ],
   "source": [
    "A"
   ]
  },
  {
   "cell_type": "markdown",
   "metadata": {},
   "source": [
    "The scoring function can be implemented as follows. If used as a loss function in a neural network framwork, it is recommended to implement a more efficient function based on tensor products. "
   ]
  },
  {
   "cell_type": "code",
   "execution_count": 41,
   "metadata": {},
   "outputs": [],
   "source": [
    "def score(y_true, y_pred):\n",
    "    S = 0.0\n",
    "    y_true = y_true.astype(int)\n",
    "    y_pred = y_pred.astype(int)\n",
    "    for i in range(0, y_true.shape[0]):\n",
    "        S -= A[y_true[i], y_pred[i]]\n",
    "    return S/y_true.shape[0]"
   ]
  },
  {
   "cell_type": "markdown",
   "metadata": {},
   "source": [
    "**IMPORTANT: The implementation above assumes zero-indexed y_true and y_pred. Be careful not to mix zero-indexed and 1-indexed class labels.**"
   ]
  },
  {
   "cell_type": "markdown",
   "metadata": {},
   "source": [
    "Let us see what happens when we test the scoring function on some corner cases:"
   ]
  },
  {
   "cell_type": "markdown",
   "metadata": {},
   "source": [
    "##### Lazily guessing SHALE for everything gives an OK score due to the imbalance of the dataset"
   ]
  },
  {
   "cell_type": "code",
   "execution_count": 42,
   "metadata": {},
   "outputs": [
    {
     "data": {
      "text/plain": [
       "-1.154113253567874"
      ]
     },
     "execution_count": 42,
     "metadata": {},
     "output_type": "execute_result"
    }
   ],
   "source": [
    "score(y_test.values, np.ones(y_test.shape)*2)"
   ]
  },
  {
   "cell_type": "markdown",
   "metadata": {},
   "source": [
    "##### Doing the same for an uncommon class, like COAL, not so much.."
   ]
  },
  {
   "cell_type": "code",
   "execution_count": 43,
   "metadata": {},
   "outputs": [
    {
     "data": {
      "text/plain": [
       "-3.0950906225037698"
      ]
     },
     "execution_count": 43,
     "metadata": {},
     "output_type": "execute_result"
    }
   ],
   "source": [
    "score(y_test.values, np.ones(y_test.shape)*11)"
   ]
  },
  {
   "cell_type": "markdown",
   "metadata": {},
   "source": [
    "##### Of course getting it completely right gives the highest possible score, 0"
   ]
  },
  {
   "cell_type": "code",
   "execution_count": 44,
   "metadata": {},
   "outputs": [
    {
     "data": {
      "text/plain": [
       "0.0"
      ]
     },
     "execution_count": 44,
     "metadata": {},
     "output_type": "execute_result"
    }
   ],
   "source": [
    "score(y_test.values, y_test.values)"
   ]
  },
  {
   "cell_type": "markdown",
   "metadata": {},
   "source": [
    "### Example prediction on open test dataset"
   ]
  },
  {
   "cell_type": "markdown",
   "metadata": {},
   "source": [
    "##### Train an oversimplified dummy model for the sake of the example\n",
    "In order to give examples of how to submit predictions and reproducible code, we will train a RandomForestClassifier on the full feature set where we lazily have set all missing values (NaNs) to zero. This is an example only, following along this approach for the competition is not recommended. However, the template below can be used for generating predictions for the weekly leaderboard from your own model, and as an example on how to ecapsulate your model for final scoring where you have to submit code.\n",
    "\n",
    "Apart from the inherent flaws of the random forest classifier, this example approach has a number of issues and simplifications. For example:\n",
    "* Data is not separated per well. Normalization and shuffling is done across the whole dataset.\n",
    "* The penatly matrix is not taken into account, it is treated as a normal classification problem.\n",
    "* Missing logs are treated as zeros\n",
    "* Depth and formation tops not taken into account\n",
    "* Same model is used for when you only have gamma ray logs as when you have the full set of logs"
   ]
  },
  {
   "cell_type": "code",
   "execution_count": 45,
   "metadata": {
    "scrolled": true
   },
   "outputs": [],
   "source": [
    "model = RandomForestClassifier(n_estimators=50, random_state=42, class_weight='balanced')"
   ]
  },
  {
   "cell_type": "code",
   "execution_count": 46,
   "metadata": {},
   "outputs": [
    {
     "data": {
      "text/plain": [
       "RandomForestClassifier(class_weight='balanced', n_estimators=50,\n",
       "                       random_state=42)"
      ]
     },
     "execution_count": 46,
     "metadata": {},
     "output_type": "execute_result"
    }
   ],
   "source": [
    "model.fit(X_train, y_train)"
   ]
  },
  {
   "cell_type": "code",
   "execution_count": 47,
   "metadata": {},
   "outputs": [
    {
     "data": {
      "text/plain": [
       "{'bootstrap': True,\n",
       " 'ccp_alpha': 0.0,\n",
       " 'class_weight': 'balanced',\n",
       " 'criterion': 'gini',\n",
       " 'max_depth': None,\n",
       " 'max_features': 'auto',\n",
       " 'max_leaf_nodes': None,\n",
       " 'max_samples': None,\n",
       " 'min_impurity_decrease': 0.0,\n",
       " 'min_impurity_split': None,\n",
       " 'min_samples_leaf': 1,\n",
       " 'min_samples_split': 2,\n",
       " 'min_weight_fraction_leaf': 0.0,\n",
       " 'n_estimators': 50,\n",
       " 'n_jobs': None,\n",
       " 'oob_score': False,\n",
       " 'random_state': 42,\n",
       " 'verbose': 0,\n",
       " 'warm_start': False}"
      ]
     },
     "execution_count": 47,
     "metadata": {},
     "output_type": "execute_result"
    }
   ],
   "source": [
    "model.get_params()"
   ]
  },
  {
   "cell_type": "markdown",
   "metadata": {},
   "source": [
    "#### Test model"
   ]
  },
  {
   "cell_type": "code",
   "execution_count": 48,
   "metadata": {},
   "outputs": [],
   "source": [
    "y_pred_test = model.predict(X_test)"
   ]
  },
  {
   "cell_type": "code",
   "execution_count": 49,
   "metadata": {},
   "outputs": [
    {
     "data": {
      "text/plain": [
       "-0.12972655198780025"
      ]
     },
     "execution_count": 49,
     "metadata": {},
     "output_type": "execute_result"
    }
   ],
   "source": [
    "score(y_test.values, y_pred_test)"
   ]
  },
  {
   "cell_type": "code",
   "execution_count": 50,
   "metadata": {},
   "outputs": [
    {
     "name": "stdout",
     "output_type": "stream",
     "text": [
      "Random Forest: Accuracy=0.952\n",
      "Random Forest: f1-score=0.952\n"
     ]
    },
    {
     "data": {
      "image/png": "[encoded data removed]",
      "text/plain": [
       "<Figure size 1080x720 with 2 Axes>"
      ]
     },
     "metadata": {
      "needs_background": "light"
     },
     "output_type": "display_data"
    }
   ],
   "source": [
    "# check model performance using confusion matrix\n",
    "from sklearn.metrics import plot_confusion_matrix, confusion_matrix, accuracy_score, f1_score\n",
    "ac = accuracy_score(y_test, y_pred_test)\n",
    "f1 = f1_score(y_test, y_pred_test, average='weighted')\n",
    "cm = confusion_matrix(y_test, y_pred_test)\n",
    "print('Random Forest: Accuracy=%.3f' % (ac))\n",
    "print('Random Forest: f1-score=%.3f' % (f1))\n",
    "\n",
    "#Plot non_normalized confustion matrix\n",
    "import seaborn as sn\n",
    "plt.figure(figsize = (15,10))\n",
    "sn.heatmap(cm, annot=True)\n",
    "plt.show()"
   ]
  },
  {
   "cell_type": "code",
   "execution_count": null,
   "metadata": {},
   "outputs": [],
   "source": []
  },
  {
   "cell_type": "code",
   "execution_count": null,
   "metadata": {},
   "outputs": [],
   "source": []
  },
  {
   "cell_type": "code",
   "execution_count": null,
   "metadata": {},
   "outputs": [],
   "source": []
  },
  {
   "cell_type": "code",
   "execution_count": null,
   "metadata": {},
   "outputs": [],
   "source": []
  },
  {
   "cell_type": "code",
   "execution_count": null,
   "metadata": {},
   "outputs": [],
   "source": []
  },
  {
   "cell_type": "code",
   "execution_count": null,
   "metadata": {},
   "outputs": [],
   "source": []
  }
 ],
 "metadata": {
  "kernelspec": {
   "display_name": "Python 3",
   "language": "python",
   "name": "python3"
  },
  "language_info": {
   "codemirror_mode": {
    "name": "ipython",
    "version": 3
   },
   "file_extension": ".py",
   "mimetype": "text/x-python",
   "name": "python",
   "nbconvert_exporter": "python",
   "pygments_lexer": "ipython3",
   "version": "3.8.3"
  }
 },
 "nbformat": 4,
 "nbformat_minor": 4
}
